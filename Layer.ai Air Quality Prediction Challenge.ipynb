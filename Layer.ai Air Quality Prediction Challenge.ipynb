{
  "cells": [
    {
      "cell_type": "markdown",
      "metadata": {
        "id": "d452647a-e545-485a-840f-23e01291cbd5"
      },
      "source": [
        "# Layer.ai Air Quality Prediction Challenge\n"
      ],
      "id": "d452647a-e545-485a-840f-23e01291cbd5"
    },
    {
      "cell_type": "markdown",
      "metadata": {
        "id": "fe61e9a8-0535-4021-ae7a-c3d5a4c42dcd"
      },
      "source": [
        "## Install Layer"
      ],
      "id": "fe61e9a8-0535-4021-ae7a-c3d5a4c42dcd"
    },
    {
      "cell_type": "code",
      "execution_count": 1,
      "metadata": {
        "id": "ee31a3ed-68f1-460d-90f4-7dbe89185702",
        "colab": {
          "base_uri": "https://localhost:8080/",
          "height": 1000
        },
        "outputId": "4b14e8e5-259b-4050-a3a8-f911fbd524a8"
      },
      "outputs": [
        {
          "output_type": "stream",
          "name": "stdout",
          "text": [
            "Looking in indexes: https://pypi.org/simple, https://us-python.pkg.dev/colab-wheels/public/simple/\n",
            "Collecting layer\n",
            "  Downloading layer-0.10.2597586054-py3-none-any.whl (150 kB)\n",
            "\u001b[K     |████████████████████████████████| 150 kB 5.0 MB/s \n",
            "\u001b[?25hCollecting yarl>=1.6.3\n",
            "  Downloading yarl-1.7.2-cp37-cp37m-manylinux_2_5_x86_64.manylinux1_x86_64.manylinux_2_12_x86_64.manylinux2010_x86_64.whl (271 kB)\n",
            "\u001b[K     |████████████████████████████████| 271 kB 58.2 MB/s \n",
            "\u001b[?25hCollecting polling>=0.3.1\n",
            "  Downloading polling-0.3.2.tar.gz (5.2 kB)\n",
            "Collecting humanize>=3.11.0\n",
            "  Downloading humanize-4.2.3-py3-none-any.whl (102 kB)\n",
            "\u001b[K     |████████████████████████████████| 102 kB 38.9 MB/s \n",
            "\u001b[?25hRequirement already satisfied: scipy in /usr/local/lib/python3.7/dist-packages (from layer) (1.4.1)\n",
            "Collecting layer-api==0.9.368780\n",
            "  Downloading layer_api-0.9.368780-py3-none-any.whl (312 kB)\n",
            "\u001b[K     |████████████████████████████████| 312 kB 53.7 MB/s \n",
            "\u001b[?25hCollecting nvsmi<0.5.0,>=0.4.2\n",
            "  Downloading nvsmi-0.4.2-py3-none-any.whl (5.5 kB)\n",
            "Collecting pyjwt<3.0.0,>=2.0.0\n",
            "  Downloading PyJWT-2.4.0-py3-none-any.whl (18 kB)\n",
            "Collecting cloudpickle>=2.0.0\n",
            "  Downloading cloudpickle-2.1.0-py3-none-any.whl (25 kB)\n",
            "Requirement already satisfied: Jinja2 in /usr/local/lib/python3.7/dist-packages (from layer) (2.11.3)\n",
            "Collecting rich>=11\n",
            "  Downloading rich-12.4.4-py3-none-any.whl (232 kB)\n",
            "\u001b[K     |████████████████████████████████| 232 kB 49.0 MB/s \n",
            "\u001b[?25hCollecting mlflow-skinny>=1.25.0\n",
            "  Downloading mlflow_skinny-1.27.0-py3-none-any.whl (3.6 MB)\n",
            "\u001b[K     |████████████████████████████████| 3.6 MB 34.5 MB/s \n",
            "\u001b[?25hRequirement already satisfied: requests>=2.23.0 in /usr/local/lib/python3.7/dist-packages (from layer) (2.23.0)\n",
            "Collecting cryptography>=3.4.7\n",
            "  Downloading cryptography-37.0.2-cp36-abi3-manylinux_2_24_x86_64.whl (4.0 MB)\n",
            "\u001b[K     |████████████████████████████████| 4.0 MB 38.2 MB/s \n",
            "\u001b[?25hRequirement already satisfied: wrapt>=1.13.3 in /usr/local/lib/python3.7/dist-packages (from layer) (1.14.1)\n",
            "Collecting pyarrow==7.0.0\n",
            "  Downloading pyarrow-7.0.0-cp37-cp37m-manylinux_2_17_x86_64.manylinux2014_x86_64.whl (26.7 MB)\n",
            "\u001b[K     |████████████████████████████████| 26.7 MB 1.6 MB/s \n",
            "\u001b[?25hRequirement already satisfied: pandas==1.3.5 in /usr/local/lib/python3.7/dist-packages (from layer) (1.3.5)\n",
            "Requirement already satisfied: numpy<1.22 in /usr/local/lib/python3.7/dist-packages (from layer) (1.21.6)\n",
            "Requirement already satisfied: networkx>=2.5 in /usr/local/lib/python3.7/dist-packages (from layer) (2.6.3)\n",
            "Collecting boto3>=1.16.24\n",
            "  Downloading boto3-1.24.21-py3-none-any.whl (132 kB)\n",
            "\u001b[K     |████████████████████████████████| 132 kB 68.6 MB/s \n",
            "\u001b[?25hCollecting psutil<6.0.0,>=5.9.1\n",
            "  Downloading psutil-5.9.1-cp37-cp37m-manylinux_2_12_x86_64.manylinux2010_x86_64.manylinux_2_17_x86_64.manylinux2014_x86_64.whl (281 kB)\n",
            "\u001b[K     |████████████████████████████████| 281 kB 53.6 MB/s \n",
            "\u001b[?25hCollecting transformers\n",
            "  Downloading transformers-4.20.1-py3-none-any.whl (4.4 MB)\n",
            "\u001b[K     |████████████████████████████████| 4.4 MB 43.2 MB/s \n",
            "\u001b[?25hCollecting aiohttp<3.8.0,>=3.7.3\n",
            "  Downloading aiohttp-3.7.4.post0-cp37-cp37m-manylinux2014_x86_64.whl (1.3 MB)\n",
            "\u001b[K     |████████████████████████████████| 1.3 MB 44.7 MB/s \n",
            "\u001b[?25hCollecting grpcio-tools>=1.45.0\n",
            "  Downloading grpcio_tools-1.47.0-cp37-cp37m-manylinux_2_17_x86_64.manylinux2014_x86_64.whl (2.4 MB)\n",
            "\u001b[K     |████████████████████████████████| 2.4 MB 41.4 MB/s \n",
            "\u001b[?25hCollecting protobuf>=3.19.4\n",
            "  Downloading protobuf-4.21.2-cp37-abi3-manylinux2014_x86_64.whl (407 kB)\n",
            "\u001b[K     |████████████████████████████████| 407 kB 62.1 MB/s \n",
            "\u001b[?25hRequirement already satisfied: python-dateutil>=2.7.3 in /usr/local/lib/python3.7/dist-packages (from pandas==1.3.5->layer) (2.8.2)\n",
            "Requirement already satisfied: pytz>=2017.3 in /usr/local/lib/python3.7/dist-packages (from pandas==1.3.5->layer) (2022.1)\n",
            "Collecting async-timeout<4.0,>=3.0\n",
            "  Downloading async_timeout-3.0.1-py3-none-any.whl (8.2 kB)\n",
            "Requirement already satisfied: typing-extensions>=3.6.5 in /usr/local/lib/python3.7/dist-packages (from aiohttp<3.8.0,>=3.7.3->layer) (4.1.1)\n",
            "Requirement already satisfied: chardet<5.0,>=2.0 in /usr/local/lib/python3.7/dist-packages (from aiohttp<3.8.0,>=3.7.3->layer) (3.0.4)\n",
            "Requirement already satisfied: attrs>=17.3.0 in /usr/local/lib/python3.7/dist-packages (from aiohttp<3.8.0,>=3.7.3->layer) (21.4.0)\n",
            "Collecting multidict<7.0,>=4.5\n",
            "  Downloading multidict-6.0.2-cp37-cp37m-manylinux_2_17_x86_64.manylinux2014_x86_64.whl (94 kB)\n",
            "\u001b[K     |████████████████████████████████| 94 kB 3.5 MB/s \n",
            "\u001b[?25hCollecting botocore<1.28.0,>=1.27.21\n",
            "  Downloading botocore-1.27.21-py3-none-any.whl (8.9 MB)\n",
            "\u001b[K     |████████████████████████████████| 8.9 MB 50.9 MB/s \n",
            "\u001b[?25hCollecting s3transfer<0.7.0,>=0.6.0\n",
            "  Downloading s3transfer-0.6.0-py3-none-any.whl (79 kB)\n",
            "\u001b[K     |████████████████████████████████| 79 kB 7.0 MB/s \n",
            "\u001b[?25hCollecting jmespath<2.0.0,>=0.7.1\n",
            "  Downloading jmespath-1.0.1-py3-none-any.whl (20 kB)\n",
            "Collecting urllib3<1.27,>=1.25.4\n",
            "  Downloading urllib3-1.26.9-py2.py3-none-any.whl (138 kB)\n",
            "\u001b[K     |████████████████████████████████| 138 kB 46.2 MB/s \n",
            "\u001b[?25hRequirement already satisfied: cffi>=1.12 in /usr/local/lib/python3.7/dist-packages (from cryptography>=3.4.7->layer) (1.15.0)\n",
            "Requirement already satisfied: pycparser in /usr/local/lib/python3.7/dist-packages (from cffi>=1.12->cryptography>=3.4.7->layer) (2.21)\n",
            "Collecting protobuf>=3.19.4\n",
            "  Downloading protobuf-3.20.1-cp37-cp37m-manylinux_2_5_x86_64.manylinux1_x86_64.whl (1.0 MB)\n",
            "\u001b[K     |████████████████████████████████| 1.0 MB 54.1 MB/s \n",
            "\u001b[?25hRequirement already satisfied: setuptools in /usr/local/lib/python3.7/dist-packages (from grpcio-tools>=1.45.0->layer-api==0.9.368780->layer) (57.4.0)\n",
            "Collecting grpcio>=1.47.0\n",
            "  Downloading grpcio-1.47.0-cp37-cp37m-manylinux_2_17_x86_64.manylinux2014_x86_64.whl (4.5 MB)\n",
            "\u001b[K     |████████████████████████████████| 4.5 MB 44.2 MB/s \n",
            "\u001b[?25hRequirement already satisfied: six>=1.5.2 in /usr/local/lib/python3.7/dist-packages (from grpcio>=1.47.0->grpcio-tools>=1.45.0->layer-api==0.9.368780->layer) (1.15.0)\n",
            "Requirement already satisfied: importlib-metadata in /usr/local/lib/python3.7/dist-packages (from humanize>=3.11.0->layer) (4.11.4)\n",
            "Collecting databricks-cli>=0.8.7\n",
            "  Downloading databricks-cli-0.17.0.tar.gz (81 kB)\n",
            "\u001b[K     |████████████████████████████████| 81 kB 9.0 MB/s \n",
            "\u001b[?25hRequirement already satisfied: packaging in /usr/local/lib/python3.7/dist-packages (from mlflow-skinny>=1.25.0->layer) (21.3)\n",
            "Collecting gitpython>=2.1.0\n",
            "  Downloading GitPython-3.1.27-py3-none-any.whl (181 kB)\n",
            "\u001b[K     |████████████████████████████████| 181 kB 47.6 MB/s \n",
            "\u001b[?25hCollecting pyyaml>=5.1\n",
            "  Downloading PyYAML-6.0-cp37-cp37m-manylinux_2_5_x86_64.manylinux1_x86_64.manylinux_2_12_x86_64.manylinux2010_x86_64.whl (596 kB)\n",
            "\u001b[K     |████████████████████████████████| 596 kB 57.6 MB/s \n",
            "\u001b[?25hRequirement already satisfied: click>=7.0 in /usr/local/lib/python3.7/dist-packages (from mlflow-skinny>=1.25.0->layer) (7.1.2)\n",
            "Requirement already satisfied: entrypoints in /usr/local/lib/python3.7/dist-packages (from mlflow-skinny>=1.25.0->layer) (0.4)\n",
            "Requirement already satisfied: oauthlib>=3.1.0 in /usr/local/lib/python3.7/dist-packages (from databricks-cli>=0.8.7->mlflow-skinny>=1.25.0->layer) (3.2.0)\n",
            "Requirement already satisfied: tabulate>=0.7.7 in /usr/local/lib/python3.7/dist-packages (from databricks-cli>=0.8.7->mlflow-skinny>=1.25.0->layer) (0.8.9)\n",
            "Collecting gitdb<5,>=4.0.1\n",
            "  Downloading gitdb-4.0.9-py3-none-any.whl (63 kB)\n",
            "\u001b[K     |████████████████████████████████| 63 kB 1.4 MB/s \n",
            "\u001b[?25hCollecting smmap<6,>=3.0.1\n",
            "  Downloading smmap-5.0.0-py3-none-any.whl (24 kB)\n",
            "Requirement already satisfied: zipp>=0.5 in /usr/local/lib/python3.7/dist-packages (from importlib-metadata->humanize>=3.11.0->layer) (3.8.0)\n",
            "Requirement already satisfied: certifi>=2017.4.17 in /usr/local/lib/python3.7/dist-packages (from requests>=2.23.0->layer) (2022.6.15)\n",
            "Collecting urllib3<1.27,>=1.25.4\n",
            "  Downloading urllib3-1.25.11-py2.py3-none-any.whl (127 kB)\n",
            "\u001b[K     |████████████████████████████████| 127 kB 56.1 MB/s \n",
            "\u001b[?25hRequirement already satisfied: idna<3,>=2.5 in /usr/local/lib/python3.7/dist-packages (from requests>=2.23.0->layer) (2.10)\n",
            "Collecting commonmark<0.10.0,>=0.9.0\n",
            "  Downloading commonmark-0.9.1-py2.py3-none-any.whl (51 kB)\n",
            "\u001b[K     |████████████████████████████████| 51 kB 5.7 MB/s \n",
            "\u001b[?25hRequirement already satisfied: pygments<3.0.0,>=2.6.0 in /usr/local/lib/python3.7/dist-packages (from rich>=11->layer) (2.6.1)\n",
            "Requirement already satisfied: MarkupSafe>=0.23 in /usr/local/lib/python3.7/dist-packages (from Jinja2->layer) (2.0.1)\n",
            "Requirement already satisfied: pyparsing!=3.0.5,>=2.0.2 in /usr/local/lib/python3.7/dist-packages (from packaging->mlflow-skinny>=1.25.0->layer) (3.0.9)\n",
            "Requirement already satisfied: regex!=2019.12.17 in /usr/local/lib/python3.7/dist-packages (from transformers->layer) (2022.6.2)\n",
            "Requirement already satisfied: filelock in /usr/local/lib/python3.7/dist-packages (from transformers->layer) (3.7.1)\n",
            "Collecting tokenizers!=0.11.3,<0.13,>=0.11.1\n",
            "  Downloading tokenizers-0.12.1-cp37-cp37m-manylinux_2_12_x86_64.manylinux2010_x86_64.whl (6.6 MB)\n",
            "\u001b[K     |████████████████████████████████| 6.6 MB 32.7 MB/s \n",
            "\u001b[?25hRequirement already satisfied: tqdm>=4.27 in /usr/local/lib/python3.7/dist-packages (from transformers->layer) (4.64.0)\n",
            "Collecting huggingface-hub<1.0,>=0.1.0\n",
            "  Downloading huggingface_hub-0.8.1-py3-none-any.whl (101 kB)\n",
            "\u001b[K     |████████████████████████████████| 101 kB 9.0 MB/s \n",
            "\u001b[?25hBuilding wheels for collected packages: databricks-cli, polling\n",
            "  Building wheel for databricks-cli (setup.py) ... \u001b[?25l\u001b[?25hdone\n",
            "  Created wheel for databricks-cli: filename=databricks_cli-0.17.0-py3-none-any.whl size=141960 sha256=1694b7e1f197b5df921a4197f394a49678b88f7e3380eee40943fc41892f5e8f\n",
            "  Stored in directory: /root/.cache/pip/wheels/55/c3/db/33705569425fd2bdc9ea73051a8053fa26965c2bce8a146747\n",
            "  Building wheel for polling (setup.py) ... \u001b[?25l\u001b[?25hdone\n",
            "  Created wheel for polling: filename=polling-0.3.2-py3-none-any.whl size=4129 sha256=57b286d00cdcd5e9518d5ad3159a4901bdee3ba3f3e9e503bfe2b2dda890f691\n",
            "  Stored in directory: /root/.cache/pip/wheels/e5/3f/0c/54a03b715fce3176335c957ae94d7d0b2a918e89b1b195bace\n",
            "Successfully built databricks-cli polling\n",
            "Installing collected packages: urllib3, smmap, jmespath, pyyaml, pyjwt, protobuf, multidict, grpcio, gitdb, botocore, yarl, tokenizers, s3transfer, huggingface-hub, grpcio-tools, gitpython, databricks-cli, commonmark, cloudpickle, async-timeout, transformers, rich, pyarrow, psutil, polling, nvsmi, mlflow-skinny, layer-api, humanize, cryptography, boto3, aiohttp, layer\n",
            "  Attempting uninstall: urllib3\n",
            "    Found existing installation: urllib3 1.24.3\n",
            "    Uninstalling urllib3-1.24.3:\n",
            "      Successfully uninstalled urllib3-1.24.3\n",
            "  Attempting uninstall: pyyaml\n",
            "    Found existing installation: PyYAML 3.13\n",
            "    Uninstalling PyYAML-3.13:\n",
            "      Successfully uninstalled PyYAML-3.13\n",
            "  Attempting uninstall: protobuf\n",
            "    Found existing installation: protobuf 3.17.3\n",
            "    Uninstalling protobuf-3.17.3:\n",
            "      Successfully uninstalled protobuf-3.17.3\n",
            "  Attempting uninstall: grpcio\n",
            "    Found existing installation: grpcio 1.46.3\n",
            "    Uninstalling grpcio-1.46.3:\n",
            "      Successfully uninstalled grpcio-1.46.3\n",
            "  Attempting uninstall: cloudpickle\n",
            "    Found existing installation: cloudpickle 1.3.0\n",
            "    Uninstalling cloudpickle-1.3.0:\n",
            "      Successfully uninstalled cloudpickle-1.3.0\n",
            "  Attempting uninstall: pyarrow\n",
            "    Found existing installation: pyarrow 6.0.1\n",
            "    Uninstalling pyarrow-6.0.1:\n",
            "      Successfully uninstalled pyarrow-6.0.1\n",
            "  Attempting uninstall: psutil\n",
            "    Found existing installation: psutil 5.4.8\n",
            "    Uninstalling psutil-5.4.8:\n",
            "      Successfully uninstalled psutil-5.4.8\n",
            "  Attempting uninstall: humanize\n",
            "    Found existing installation: humanize 0.5.1\n",
            "    Uninstalling humanize-0.5.1:\n",
            "      Successfully uninstalled humanize-0.5.1\n",
            "\u001b[31mERROR: pip's dependency resolver does not currently take into account all the packages that are installed. This behaviour is the source of the following dependency conflicts.\n",
            "tensorflow 2.8.2+zzzcolab20220527125636 requires protobuf<3.20,>=3.9.2, but you have protobuf 3.20.1 which is incompatible.\n",
            "gym 0.17.3 requires cloudpickle<1.7.0,>=1.2.0, but you have cloudpickle 2.1.0 which is incompatible.\n",
            "datascience 0.10.6 requires folium==0.2.1, but you have folium 0.8.3 which is incompatible.\u001b[0m\n",
            "Successfully installed aiohttp-3.7.4.post0 async-timeout-3.0.1 boto3-1.24.21 botocore-1.27.21 cloudpickle-2.1.0 commonmark-0.9.1 cryptography-37.0.2 databricks-cli-0.17.0 gitdb-4.0.9 gitpython-3.1.27 grpcio-1.47.0 grpcio-tools-1.47.0 huggingface-hub-0.8.1 humanize-4.2.3 jmespath-1.0.1 layer-0.10.2597586054 layer-api-0.9.368780 mlflow-skinny-1.27.0 multidict-6.0.2 nvsmi-0.4.2 polling-0.3.2 protobuf-3.20.1 psutil-5.9.1 pyarrow-7.0.0 pyjwt-2.4.0 pyyaml-6.0 rich-12.4.4 s3transfer-0.6.0 smmap-5.0.0 tokenizers-0.12.1 transformers-4.20.1 urllib3-1.25.11 yarl-1.7.2\n"
          ]
        },
        {
          "output_type": "display_data",
          "data": {
            "application/vnd.colab-display-data+json": {
              "pip_warning": {
                "packages": [
                  "google",
                  "psutil"
                ]
              }
            }
          },
          "metadata": {}
        }
      ],
      "source": [
        "pip install -U layer"
      ],
      "id": "ee31a3ed-68f1-460d-90f4-7dbe89185702"
    },
    {
      "cell_type": "code",
      "execution_count": 2,
      "metadata": {
        "id": "63859387-1f1a-4973-a250-dd36e6ac8d90"
      },
      "outputs": [],
      "source": [
        "import layer"
      ],
      "id": "63859387-1f1a-4973-a250-dd36e6ac8d90"
    },
    {
      "cell_type": "code",
      "execution_count": 3,
      "metadata": {
        "id": "cc57f4dd-98be-492b-8798-20d8d1ee1678"
      },
      "outputs": [],
      "source": [
        "from layer.decorators import dataset,model, pip_requirements"
      ],
      "id": "cc57f4dd-98be-492b-8798-20d8d1ee1678"
    },
    {
      "cell_type": "code",
      "source": [
        "import numpy as np\n",
        "import pandas as pd\n",
        "import lightgbm as lgb\n",
        "from fastai.tabular import *\n",
        "from sklearn.metrics import mean_squared_error as mse\n",
        "from sklearn.model_selection import KFold, StratifiedKFold\n",
        "from IPython.core.interactiveshell import InteractiveShell\n",
        "InteractiveShell.ast_node_interactivity = \"all\"\n",
        "import datetime\n",
        "from tqdm.notebook import tqdm as tqdm_notebook"
      ],
      "metadata": {
        "id": "dempzw4XWB6t"
      },
      "id": "dempzw4XWB6t",
      "execution_count": 4,
      "outputs": []
    },
    {
      "cell_type": "code",
      "source": [
        ""
      ],
      "metadata": {
        "id": "YFFXvZ4zWRCL"
      },
      "id": "YFFXvZ4zWRCL",
      "execution_count": 4,
      "outputs": []
    },
    {
      "cell_type": "code",
      "source": [
        "from functools import partial\n",
        "import re\n",
        "import calendar\n",
        "import matplotlib.pyplot as plt\n",
        "def add_cyclic_datepart(df, field_name:str, prefix:str=None, drop:bool=True, time:bool=False, add_linear:bool=False):\n",
        "    \"Helper function that adds trigonometric date/time features to a date in the column `field_name` of `df`.\"\n",
        "    make_date(df, field_name)\n",
        "    field = df[field_name]\n",
        "    prefix = ifnone(prefix, re.sub('[Dd]ate$', '', field_name))\n",
        "    series = field.apply(partial(cyclic_dt_features, time=time, add_linear=add_linear))\n",
        "    columns = [prefix + c for c in cyclic_dt_feat_names(time, add_linear)]\n",
        "    df_feats = pd.DataFrame([item for item in series], columns=columns, index=series.index)\n",
        "    for column in columns: df[column] = df_feats[column]\n",
        "    if drop: df.drop(field_name, axis=1, inplace=True)\n",
        "    return df\n",
        "def make_date(df, date_field:str):\n",
        "    \"Make sure `df[date_field]` is of the right date type.\"\n",
        "    field_dtype = df[date_field].dtype\n",
        "    if isinstance(field_dtype, pd.core.dtypes.dtypes.DatetimeTZDtype):\n",
        "        field_dtype = np.datetime64\n",
        "    if not np.issubdtype(field_dtype, np.datetime64):\n",
        "        df[date_field] = pd.to_datetime(df[date_field], infer_datetime_format=True)\n",
        "def ifnone(a,b):\n",
        "    \"`a` if `a` is not None, otherwise `b`.\"\n",
        "    return b if a is None else a\n",
        "def cyclic_dt_features(d, time:bool=True, add_linear:bool=False):\n",
        "    \"Calculate the cos and sin of date/time cycles.\"\n",
        "    tt,fs = d.timetuple(), [np.cos, np.sin]\n",
        "    day_year,days_month = tt.tm_yday, calendar.monthrange(d.year, d.month)[1]\n",
        "    days_year = 366 if calendar.isleap(d.year) else 365\n",
        "    rs = d.weekday()/7, (d.day-1)/days_month, (d.month-1)/12, (day_year-1)/days_year\n",
        "    feats = [f(r * 2 * np.pi) for r in rs for f in fs]\n",
        "    \"\"\"if time and isinstance(d, datetime) and type(d) != date:\n",
        "        rs = tt.tm_hour/24, tt.tm_hour%12/12, tt.tm_min/60, tt.tm_sec/60\n",
        "        feats += [f(r * 2 * np.pi) for r in rs for f in fs]\"\"\"\n",
        "    \"\"\"if add_linear:\n",
        "        if type(d) == date: feats.append(d.year + rs[-1])\n",
        "        else:\n",
        "            secs_in_year = (datetime(d.year+1, 1, 1) - datetime(d.year, 1, 1)).total_seconds()\n",
        "            feats.append(d.year + ((d - datetime(d.year, 1, 1)).total_seconds() / secs_in_year))\"\"\"\n",
        "    return feats\n",
        "def cyclic_dt_feat_names(time:bool=True, add_linear:bool=False):\n",
        "    \"Return feature names of date/time cycles as produced by `cyclic_dt_features`.\"\n",
        "    fs = ['cos','sin']\n",
        "    attr = [f'{r}_{f}' for r in 'weekday day_month month_year day_year'.split() for f in fs]\n",
        "    if time: attr += [f'{r}_{f}' for r in 'hour clock min sec'.split() for f in fs]\n",
        "    if add_linear: attr.append('year_lin')\n",
        "    return attr"
      ],
      "metadata": {
        "id": "0jmk-9EwWRRf"
      },
      "id": "0jmk-9EwWRRf",
      "execution_count": 5,
      "outputs": []
    },
    {
      "cell_type": "code",
      "source": [
        "# this function will help to reduce momory \n",
        "# data will be smaller with the same value\n",
        "\n",
        "def reduce_mem_usage(df):\n",
        "    \"\"\" iterate through all the columns of a dataframe and modify the data type\n",
        "        to reduce memory usage.        \n",
        "    \"\"\"\n",
        "    start_mem = df.memory_usage().sum() / 1024**2\n",
        "    print('Memory usage of dataframe is {:.2f} MB'.format(start_mem))\n",
        "    \n",
        "    for col in df.columns:\n",
        "        \n",
        "        col_type = df[col].dtype\n",
        "        if col_type == \"category\" : pass\n",
        "        elif col_type != object :\n",
        "            c_min = df[col].min()\n",
        "            c_max = df[col].max()\n",
        "            if str(col_type)[:3] == 'int':\n",
        "                if c_min > np.iinfo(np.int8).min and c_max < np.iinfo(np.int8).max:\n",
        "                    df[col] = df[col].astype(np.int8)\n",
        "                elif c_min > np.iinfo(np.int16).min and c_max < np.iinfo(np.int16).max:\n",
        "                    df[col] = df[col].astype(np.int16)\n",
        "                elif c_min > np.iinfo(np.int32).min and c_max < np.iinfo(np.int32).max:\n",
        "                    df[col] = df[col].astype(np.int32)\n",
        "                elif c_min > np.iinfo(np.int64).min and c_max < np.iinfo(np.int64).max:\n",
        "                    df[col] = df[col].astype(np.int64)  \n",
        "            elif str(col_type)[:5] == 'float':\n",
        "                if c_min > np.finfo(np.float16).min and c_max < np.finfo(np.float16).max:\n",
        "                    df[col] = df[col].astype(np.float16)\n",
        "                elif c_min > np.finfo(np.float32).min and c_max < np.finfo(np.float32).max:\n",
        "                    df[col] = df[col].astype(np.float32)\n",
        "                else:\n",
        "                    df[col] = df[col].astype(np.float64)\n",
        "            else: pass\n",
        "        else:\n",
        "            df[col] = df[col].astype('category')\n",
        "\n",
        "    end_mem = df.memory_usage().sum() / 1024**2\n",
        "    print('Memory usage after optimization is: {:.2f} MB'.format(end_mem))\n",
        "    print('Decreased by {:.1f}%'.format(100 * (start_mem - end_mem) / start_mem))\n",
        "    \n",
        "    return df"
      ],
      "metadata": {
        "id": "C0__ifbGWX4-"
      },
      "id": "C0__ifbGWX4-",
      "execution_count": 31,
      "outputs": []
    },
    {
      "cell_type": "markdown",
      "metadata": {
        "id": "6b539b39-9a7a-421c-af38-ca02a481bf1d"
      },
      "source": [
        "## Log in to your Layer account"
      ],
      "id": "6b539b39-9a7a-421c-af38-ca02a481bf1d"
    },
    {
      "cell_type": "code",
      "execution_count": 16,
      "metadata": {
        "id": "1559b153-a383-4014-ac41-017b9f2b317f"
      },
      "outputs": [],
      "source": [
        "layer.login()"
      ],
      "id": "1559b153-a383-4014-ac41-017b9f2b317f"
    },
    {
      "cell_type": "markdown",
      "metadata": {
        "id": "be8c963a-42d6-446d-8429-cfd33952b735"
      },
      "source": [
        "## Create a Layer project"
      ],
      "id": "be8c963a-42d6-446d-8429-cfd33952b735"
    },
    {
      "cell_type": "code",
      "execution_count": 17,
      "metadata": {
        "colab": {
          "base_uri": "https://localhost:8080/"
        },
        "id": "4fa445e3-9cab-4ecb-b608-569cb0b4a13d",
        "outputId": "38ec15d6-5e10-4fef-f70d-31c2b8ef6229"
      },
      "outputs": [
        {
          "output_type": "execute_result",
          "data": {
            "text/plain": [
              "Your Layer project is here: https://app.layer.ai/siwar/sample-air-quality"
            ]
          },
          "metadata": {},
          "execution_count": 17
        }
      ],
      "source": [
        "layer.init(\"sample-air-quality\")"
      ],
      "id": "4fa445e3-9cab-4ecb-b608-569cb0b4a13d"
    },
    {
      "cell_type": "code",
      "source": [
        "#sample_submission = layer.get_dataset(\"zindi/air-quality/datasets/sample_submission\").to_pandas()\n",
        "test_df = layer.get_dataset(\"zindi/air-quality/datasets/test\").to_pandas()\n",
        "train_df = layer.get_dataset(\"zindi/air-quality/datasets/train\").to_pandas()"
      ],
      "metadata": {
        "colab": {
          "base_uri": "https://localhost:8080/",
          "height": 55,
          "referenced_widgets": [
            "2c6760edb891403dbe5cee86dcd70ab9",
            "df642eb516ed4f55927b52192b8e4ef5",
            "9ba1fa73e3134c38ae4d32400cc72f54",
            "b0a0993f4e6d4474a7fb71788a1ddd22"
          ]
        },
        "id": "lCyBrEsAa2v0",
        "outputId": "12ae9a9c-a029-4644-940c-d4e5e7c0d559"
      },
      "id": "lCyBrEsAa2v0",
      "execution_count": 18,
      "outputs": [
        {
          "output_type": "display_data",
          "data": {
            "text/plain": [
              "Output()"
            ],
            "application/vnd.jupyter.widget-view+json": {
              "version_major": 2,
              "version_minor": 0,
              "model_id": "2c6760edb891403dbe5cee86dcd70ab9"
            }
          },
          "metadata": {}
        },
        {
          "output_type": "display_data",
          "data": {
            "text/plain": [
              ""
            ],
            "text/html": [
              "<pre style=\"white-space:pre;overflow-x:auto;line-height:normal;font-family:Menlo,'DejaVu Sans Mono',consolas,'Courier New',monospace\"></pre>\n"
            ]
          },
          "metadata": {}
        },
        {
          "output_type": "display_data",
          "data": {
            "text/plain": [
              "\n"
            ],
            "text/html": [
              "<pre style=\"white-space:pre;overflow-x:auto;line-height:normal;font-family:Menlo,'DejaVu Sans Mono',consolas,'Courier New',monospace\">\n",
              "</pre>\n"
            ]
          },
          "metadata": {}
        },
        {
          "output_type": "display_data",
          "data": {
            "text/plain": [
              "Output()"
            ],
            "application/vnd.jupyter.widget-view+json": {
              "version_major": 2,
              "version_minor": 0,
              "model_id": "9ba1fa73e3134c38ae4d32400cc72f54"
            }
          },
          "metadata": {}
        },
        {
          "output_type": "display_data",
          "data": {
            "text/plain": [
              ""
            ],
            "text/html": [
              "<pre style=\"white-space:pre;overflow-x:auto;line-height:normal;font-family:Menlo,'DejaVu Sans Mono',consolas,'Courier New',monospace\"></pre>\n"
            ]
          },
          "metadata": {}
        },
        {
          "output_type": "display_data",
          "data": {
            "text/plain": [
              "\n"
            ],
            "text/html": [
              "<pre style=\"white-space:pre;overflow-x:auto;line-height:normal;font-family:Menlo,'DejaVu Sans Mono',consolas,'Courier New',monospace\">\n",
              "</pre>\n"
            ]
          },
          "metadata": {}
        }
      ]
    },
    {
      "cell_type": "code",
      "source": [
        "train_df['date'] = pd.to_datetime(train_df['date'], format='%Y-%m-%d')\n",
        "test_df['date'] = pd.to_datetime(test_df['date'], format='%Y-%m-%d')\n",
        "\n",
        "ID_COL, TARGET_COL = 'ID', 'pm2_5'"
      ],
      "metadata": {
        "id": "2Q-j5v3eWcxM"
      },
      "id": "2Q-j5v3eWcxM",
      "execution_count": 19,
      "outputs": []
    },
    {
      "cell_type": "code",
      "source": [
        "features = [c for c in train_df.columns if c not in ['date', 'ID', 'device', 'pm2_5']]\n",
        "simple_feats = [c for c in features if ('angle' not in c) & ('height' not in c) & ('altittude' not in c)]\n",
        "len(simple_feats)"
      ],
      "metadata": {
        "colab": {
          "base_uri": "https://localhost:8080/"
        },
        "id": "yVoxBoIrWiau",
        "outputId": "603bf6a6-3ed4-4555-8bef-c4fabc12278b"
      },
      "id": "yVoxBoIrWiau",
      "execution_count": 20,
      "outputs": [
        {
          "output_type": "execute_result",
          "data": {
            "text/plain": [
              "36"
            ]
          },
          "metadata": {},
          "execution_count": 20
        }
      ]
    },
    {
      "cell_type": "code",
      "source": [
        "nan_cols = [c for c in train_df.columns if c not in [\"ID\",\"pm2_5\", \"device\"]]\n",
        "nan_cols = train_df[nan_cols].columns[train_df[nan_cols].isnull().any()].tolist()\n",
        "\n",
        "for col in nan_cols:\n",
        "    \n",
        "    while train_df[col].isnull().sum()>0:\n",
        "     \n",
        "        train_df[col].fillna(train_df[[\"device\", col]].groupby([\"device\"]).shift(periods=0).fillna(method='ffill', limit=1).fillna(method='bfill', limit=1)[col], inplace=True) \n",
        "\n",
        "    while test_df[col].isnull().sum()>0:\n",
        "     \n",
        "        test_df[col].fillna(test_df[[\"device\", col]].groupby([\"device\"]).shift(periods=0).fillna(method='ffill', limit=1).fillna(method='bfill', limit=1)[col], inplace=True) \n",
        "\n",
        "test_df.isnull().sum()[test_df.isnull().sum()>0]"
      ],
      "metadata": {
        "colab": {
          "base_uri": "https://localhost:8080/"
        },
        "id": "WRKCE78uW67m",
        "outputId": "25235be3-1d05-402f-96ec-eb5ed36e9791"
      },
      "id": "WRKCE78uW67m",
      "execution_count": 21,
      "outputs": [
        {
          "output_type": "execute_result",
          "data": {
            "text/plain": [
              "Series([], dtype: int64)"
            ]
          },
          "metadata": {},
          "execution_count": 21
        }
      ]
    },
    {
      "cell_type": "code",
      "source": [
        "train_df['placeID_freq'] = train_df['device'].map(train_df['device'].value_counts())\n",
        "\"\"\"for i in range(1, 20):\n",
        "    train_df[f'prev_target_{i}'] = train_df.sort_values(by='date')[TARGET_COL].shift(i).fillna(method='ffill').fillna(method='bfill').sort_index()\n",
        "    train_df[f'next_target_{i}'] = train_df.sort_values(by='date')[TARGET_COL].shift(-i).fillna(method='bfill').fillna(method='ffill').sort_index()\n",
        "\n",
        "for i in tqdm_notebook(range(1, 15)):\n",
        "    train_df[f'magic_{i}'] = train_df.sort_values(by='date')[TARGET_COL].shift(i).expanding().mean().fillna(method='ffill').fillna(method='bfill').sort_index()\n",
        "    train_df[f'magic2_{i}'] = train_df.sort_values(by='date')[TARGET_COL].shift(-i).expanding().mean().fillna(method='bfill').fillna(method='ffill').sort_index()\n",
        "    \"\"\"\n",
        "for i in tqdm_notebook(range(1, 45)):\n",
        "    c = 'date' + str(i+1)\n",
        "    train_df[c] = train_df['date']  + datetime.timedelta(days=i)\n",
        "    _ = add_cyclic_datepart(train_df, c, prefix = c)\n",
        "    \n",
        "for i in tqdm_notebook(range(1, 11)):\n",
        "    tmp = train_df.sort_values(by='date').groupby('device')[simple_feats].shift(i).sort_index()\n",
        "    tmp_diff_prev = train_df[simple_feats] - tmp\n",
        "    tmp.columns = [c + f'_prev_{i}' for c in tmp.columns]\n",
        "    tmp_diff_prev.columns = [c + f'_prev_diff_{i}' for c in tmp_diff_prev.columns]\n",
        "    train_df = pd.concat([train_df, tmp, tmp_diff_prev], axis=1)\n",
        "    \n",
        "    tmp = train_df.sort_values(by='date').groupby('device')[simple_feats].shift(-i).sort_index()\n",
        "    tmp_diff_next = train_df[simple_feats] - tmp\n",
        "    tmp.columns = [c + f'_next_{i}' for c in tmp.columns]\n",
        "    tmp_diff_next.columns = [c + f'_next_diff_{i}' for c in tmp_diff_next.columns]\n",
        "    train_df = pd.concat([train_df, tmp, tmp_diff_next], axis=1)\n",
        "    \n",
        "for attr in ['day', 'month', 'week', 'dayofweek', 'weekofyear', 'days_in_month', 'is_month_start', 'is_month_end', 'dayofyear']:\n",
        "    train_df[attr] = getattr(train_df['date'].dt, attr)\n",
        "train_df['is_weekend'] = (train_df['dayofweek'] >= 5)*1\n",
        "train_df['fortnight'] = train_df['day']%15\n",
        "train_df['which_fortnight'] = train_df['day']//15\n",
        "#add_cyclic_datepart(train_df, \"date\", prefix = \"Current_Date_\")"
      ],
      "metadata": {
        "colab": {
          "base_uri": "https://localhost:8080/",
          "height": 276,
          "referenced_widgets": [
            "3e4391b453184ca8963e910be7c6e08b",
            "e35ab981982c4ac89764816d8a3160a9",
            "f9b6914fbde74c8aa3a5075cd4774c95",
            "67288c8fe0f44ff6a14ff4c0e0da7415",
            "cb0afdd3dc064081932c7534f02182d1",
            "2bf9742a76e64408b91a27db66f3d99c",
            "224763ba2eea4e4490f00718476010bd",
            "8e90d54932db431c8dd89abb55522793",
            "489e5090c77941a2a5c524b6c9adc8b8",
            "56bbbeb0a703452e9ac291c11ab50faf",
            "ae76ed7c7e6346e98277985c53b96194",
            "5a44eecab4344a90b6e5884dec5074f7",
            "b9b0feb55b9d466cb5f990e1e03432c7",
            "b2eee7d495cb4e68bb566cc045177d30",
            "173ad9c53c404e978298f849e01a3c28",
            "cf5c3cb942f74e2fb074dbe2b3f51661",
            "c710380f6f144e34be8edb310717b069",
            "8127581d790344159539e1a0fd242478",
            "1076b39f78e04966b1b04c145eaa8614",
            "ecc6e716045646e0a551bf7557207a99",
            "f3f2c4b323b34bffaa0bf43c4e2a2843",
            "53285d2ddc954425add91f58be44a764"
          ]
        },
        "id": "dGRh1sv7Wc0w",
        "outputId": "b8631acb-2d5d-4c93-e0d1-3e975624a979"
      },
      "id": "dGRh1sv7Wc0w",
      "execution_count": 29,
      "outputs": [
        {
          "output_type": "execute_result",
          "data": {
            "text/plain": [
              "\"for i in range(1, 20):\\n    train_df[f'prev_target_{i}'] = train_df.sort_values(by='date')[TARGET_COL].shift(i).fillna(method='ffill').fillna(method='bfill').sort_index()\\n    train_df[f'next_target_{i}'] = train_df.sort_values(by='date')[TARGET_COL].shift(-i).fillna(method='bfill').fillna(method='ffill').sort_index()\\n\\nfor i in tqdm_notebook(range(1, 15)):\\n    train_df[f'magic_{i}'] = train_df.sort_values(by='date')[TARGET_COL].shift(i).expanding().mean().fillna(method='ffill').fillna(method='bfill').sort_index()\\n    train_df[f'magic2_{i}'] = train_df.sort_values(by='date')[TARGET_COL].shift(-i).expanding().mean().fillna(method='bfill').fillna(method='ffill').sort_index()\\n    \""
            ],
            "application/vnd.google.colaboratory.intrinsic+json": {
              "type": "string"
            }
          },
          "metadata": {},
          "execution_count": 29
        },
        {
          "output_type": "display_data",
          "data": {
            "text/plain": [
              "  0%|          | 0/44 [00:00<?, ?it/s]"
            ],
            "application/vnd.jupyter.widget-view+json": {
              "version_major": 2,
              "version_minor": 0,
              "model_id": "3e4391b453184ca8963e910be7c6e08b"
            }
          },
          "metadata": {}
        },
        {
          "output_type": "display_data",
          "data": {
            "text/plain": [
              "  0%|          | 0/10 [00:00<?, ?it/s]"
            ],
            "application/vnd.jupyter.widget-view+json": {
              "version_major": 2,
              "version_minor": 0,
              "model_id": "5a44eecab4344a90b6e5884dec5074f7"
            }
          },
          "metadata": {}
        },
        {
          "output_type": "stream",
          "name": "stderr",
          "text": [
            "/usr/local/lib/python3.7/dist-packages/ipykernel_launcher.py:29: PerformanceWarning: DataFrame is highly fragmented.  This is usually the result of calling `frame.insert` many times, which has poor performance.  Consider joining all columns at once using pd.concat(axis=1) instead.  To get a de-fragmented frame, use `newframe = frame.copy()`\n",
            "/usr/local/lib/python3.7/dist-packages/ipykernel_launcher.py:29: FutureWarning: Series.dt.weekofyear and Series.dt.week have been deprecated.  Please use Series.dt.isocalendar().week instead.\n",
            "/usr/local/lib/python3.7/dist-packages/ipykernel_launcher.py:30: PerformanceWarning: DataFrame is highly fragmented.  This is usually the result of calling `frame.insert` many times, which has poor performance.  Consider joining all columns at once using pd.concat(axis=1) instead.  To get a de-fragmented frame, use `newframe = frame.copy()`\n",
            "/usr/local/lib/python3.7/dist-packages/ipykernel_launcher.py:31: PerformanceWarning: DataFrame is highly fragmented.  This is usually the result of calling `frame.insert` many times, which has poor performance.  Consider joining all columns at once using pd.concat(axis=1) instead.  To get a de-fragmented frame, use `newframe = frame.copy()`\n",
            "/usr/local/lib/python3.7/dist-packages/ipykernel_launcher.py:32: PerformanceWarning: DataFrame is highly fragmented.  This is usually the result of calling `frame.insert` many times, which has poor performance.  Consider joining all columns at once using pd.concat(axis=1) instead.  To get a de-fragmented frame, use `newframe = frame.copy()`\n"
          ]
        }
      ]
    },
    {
      "cell_type": "code",
      "source": [
        "test_df['placeID_freq'] = test_df['device'].map(test_df['device'].value_counts())\n",
        "\"\"\"for i in range(1, 20):\n",
        "    test_df[f'prev_target_{i}'] = test_df.sort_values(by='date')[TARGET_COL].shift(i).fillna(method='ffill').fillna(method='bfill').sort_index()\n",
        "    test_df[f'next_target_{i}'] = test_df.sort_values(by='date')[TARGET_COL].shift(-i).fillna(method='bfill').fillna(method='ffill').sort_index()\"\"\"\n",
        "\n",
        "\"\"\"for i in tqdm_notebook(range(1, 15)):\n",
        "    test_df[f'magic_{i}'] = test_df.sort_values(by='date')[TARGET_COL].shift(i).expanding().mean().fillna(method='ffill').fillna(method='bfill').sort_index()\n",
        "    test_df[f'magic2_{i}'] = test_df.sort_values(by='date')[TARGET_COL].shift(-i).expanding().mean().fillna(method='bfill').fillna(method='ffill').sort_index()\n",
        "    \"\"\"\n",
        "for i in tqdm_notebook(range(1, 45)):\n",
        "    c = 'date' + str(i+1)\n",
        "    test_df[c] = test_df['date']  + datetime.timedelta(days=i)\n",
        "    _ = add_cyclic_datepart(test_df, c, prefix = c)\n",
        "    \n",
        "for i in tqdm_notebook(range(1, 11)):\n",
        "    tmp = test_df.sort_values(by='date').groupby('device')[simple_feats].shift(i).sort_index()\n",
        "    tmp_diff_prev = test_df[simple_feats] - tmp\n",
        "    tmp.columns = [c + f'_prev_{i}' for c in tmp.columns]\n",
        "    tmp_diff_prev.columns = [c + f'_prev_diff_{i}' for c in tmp_diff_prev.columns]\n",
        "    test_df = pd.concat([test_df, tmp, tmp_diff_prev], axis=1)\n",
        "    \n",
        "    tmp = test_df.sort_values(by='date').groupby('device')[simple_feats].shift(-i).sort_index()\n",
        "    tmp_diff_next = test_df[simple_feats] - tmp\n",
        "    tmp.columns = [c + f'_next_{i}' for c in tmp.columns]\n",
        "    tmp_diff_next.columns = [c + f'_next_diff_{i}' for c in tmp_diff_next.columns]\n",
        "    test_df = pd.concat([test_df, tmp, tmp_diff_next], axis=1)\n",
        "    \n",
        "for attr in ['day', 'month', 'week', 'dayofweek', 'weekofyear', 'days_in_month', 'is_month_start', 'is_month_end', 'dayofyear']:\n",
        "    test_df[attr] = getattr(test_df['date'].dt, attr)\n",
        "test_df['is_weekend'] = (test_df['dayofweek'] >= 5)*1\n",
        "test_df['fortnight'] = test_df['day']%15\n",
        "test_df['which_fortnight'] = test_df['day']//15\n",
        "#add_cyclic_datepart(test_df, \"date\", prefix = \"Current_Date_\")"
      ],
      "metadata": {
        "colab": {
          "base_uri": "https://localhost:8080/",
          "height": 277,
          "referenced_widgets": [
            "8762aa30d95442889e7740468c511703",
            "8cbee52f50484892814ab65a393c43ae",
            "2214db69113e451691a05f0588c9530f",
            "7a74df35671e4bd88c7cb3e72a6d256d",
            "70bb3f2b7d0f44239de93ae637ec5064",
            "f4d95b4717964c1f95dbd46375289c6f",
            "a456c4713af541229eb3d5a2a69be05f",
            "459e2bc7edc747a2abc57e7e605815ae",
            "38744fe895174c8ba014a2ecc1a3ebed",
            "3450d70de9cd4be491cb555a9d7208f2",
            "3f6d02325d8344799e71fe4e55a12db5",
            "9a7770da2bf0442ebc44373ff9556e01",
            "ed16d6428e074d70b40a9afbf74c5ebb",
            "748555993ff646919a9d8ed81ce16696",
            "9087fc287e8c47f0af8d6446ae6fc1c3",
            "251d3a6f2fe34ad595f8f74669aac9c0",
            "6578543a732b4cd1a83614d4d41a0482",
            "e5b15ceb22804ed0a2e05cb1f5c66306",
            "ff9feaf5a9c34180a775c9f80d990878",
            "04d8a80374aa4a58bf87fde9aadb0edd",
            "71ffa82205d448a0bd170f3fb44f2124",
            "d6117dd4f58a49fc98387b4e0c3c8166"
          ]
        },
        "id": "BAuamu28D7o3",
        "outputId": "aa7d0ab0-4aba-4319-fec3-b0b37373f30b"
      },
      "id": "BAuamu28D7o3",
      "execution_count": 27,
      "outputs": [
        {
          "output_type": "execute_result",
          "data": {
            "text/plain": [
              "\"for i in range(1, 20):\\n    test_df[f'prev_target_{i}'] = test_df.sort_values(by='date')[TARGET_COL].shift(i).fillna(method='ffill').fillna(method='bfill').sort_index()\\n    test_df[f'next_target_{i}'] = test_df.sort_values(by='date')[TARGET_COL].shift(-i).fillna(method='bfill').fillna(method='ffill').sort_index()\""
            ],
            "application/vnd.google.colaboratory.intrinsic+json": {
              "type": "string"
            }
          },
          "metadata": {},
          "execution_count": 27
        },
        {
          "output_type": "execute_result",
          "data": {
            "text/plain": [
              "\"for i in tqdm_notebook(range(1, 15)):\\n    test_df[f'magic_{i}'] = test_df.sort_values(by='date')[TARGET_COL].shift(i).expanding().mean().fillna(method='ffill').fillna(method='bfill').sort_index()\\n    test_df[f'magic2_{i}'] = test_df.sort_values(by='date')[TARGET_COL].shift(-i).expanding().mean().fillna(method='bfill').fillna(method='ffill').sort_index()\\n    \""
            ],
            "application/vnd.google.colaboratory.intrinsic+json": {
              "type": "string"
            }
          },
          "metadata": {},
          "execution_count": 27
        },
        {
          "output_type": "display_data",
          "data": {
            "text/plain": [
              "  0%|          | 0/44 [00:00<?, ?it/s]"
            ],
            "application/vnd.jupyter.widget-view+json": {
              "version_major": 2,
              "version_minor": 0,
              "model_id": "8762aa30d95442889e7740468c511703"
            }
          },
          "metadata": {}
        },
        {
          "output_type": "display_data",
          "data": {
            "text/plain": [
              "  0%|          | 0/10 [00:00<?, ?it/s]"
            ],
            "application/vnd.jupyter.widget-view+json": {
              "version_major": 2,
              "version_minor": 0,
              "model_id": "9a7770da2bf0442ebc44373ff9556e01"
            }
          },
          "metadata": {}
        },
        {
          "output_type": "stream",
          "name": "stderr",
          "text": [
            "/usr/local/lib/python3.7/dist-packages/ipykernel_launcher.py:29: PerformanceWarning: DataFrame is highly fragmented.  This is usually the result of calling `frame.insert` many times, which has poor performance.  Consider joining all columns at once using pd.concat(axis=1) instead.  To get a de-fragmented frame, use `newframe = frame.copy()`\n",
            "/usr/local/lib/python3.7/dist-packages/ipykernel_launcher.py:29: FutureWarning: Series.dt.weekofyear and Series.dt.week have been deprecated.  Please use Series.dt.isocalendar().week instead.\n",
            "/usr/local/lib/python3.7/dist-packages/ipykernel_launcher.py:30: PerformanceWarning: DataFrame is highly fragmented.  This is usually the result of calling `frame.insert` many times, which has poor performance.  Consider joining all columns at once using pd.concat(axis=1) instead.  To get a de-fragmented frame, use `newframe = frame.copy()`\n",
            "/usr/local/lib/python3.7/dist-packages/ipykernel_launcher.py:31: PerformanceWarning: DataFrame is highly fragmented.  This is usually the result of calling `frame.insert` many times, which has poor performance.  Consider joining all columns at once using pd.concat(axis=1) instead.  To get a de-fragmented frame, use `newframe = frame.copy()`\n",
            "/usr/local/lib/python3.7/dist-packages/ipykernel_launcher.py:32: PerformanceWarning: DataFrame is highly fragmented.  This is usually the result of calling `frame.insert` many times, which has poor performance.  Consider joining all columns at once using pd.concat(axis=1) instead.  To get a de-fragmented frame, use `newframe = frame.copy()`\n"
          ]
        }
      ]
    },
    {
      "cell_type": "code",
      "source": [
        "train_df = reduce_mem_usage(train_df)\n",
        "test_df = reduce_mem_usage(test_df)"
      ],
      "metadata": {
        "colab": {
          "base_uri": "https://localhost:8080/"
        },
        "id": "9dI2x4TbXo9a",
        "outputId": "5011b915-eaf0-4efc-8f8e-fbac77068f48"
      },
      "id": "9dI2x4TbXo9a",
      "execution_count": 32,
      "outputs": [
        {
          "output_type": "stream",
          "name": "stdout",
          "text": [
            "Memory usage of dataframe is 60.35 MB\n",
            "Memory usage after optimization is: 38.52 MB\n",
            "Decreased by 36.2%\n",
            "Memory usage of dataframe is 25.88 MB\n",
            "Memory usage after optimization is: 16.25 MB\n",
            "Decreased by 37.2%\n"
          ]
        }
      ]
    },
    {
      "cell_type": "code",
      "source": [
        "nan_cols = ['date', 'device','ID', 'pm2_5', 'month_year_cos','month_year_sin','day_year_cos','day_year_sin']\n",
        "\n",
        "features = [c for c in train_df.columns if c not in nan_cols]\n",
        "\n",
        "target = train_df[TARGET_COL]\n",
        "\n",
        "len(features)"
      ],
      "metadata": {
        "colab": {
          "base_uri": "https://localhost:8080/"
        },
        "id": "wmUnAwbbX2DH",
        "outputId": "0404b321-aed1-43ec-9745-a8ebdaf22c1b"
      },
      "id": "wmUnAwbbX2DH",
      "execution_count": 33,
      "outputs": [
        {
          "output_type": "execute_result",
          "data": {
            "text/plain": [
              "1872"
            ]
          },
          "metadata": {},
          "execution_count": 33
        }
      ]
    },
    {
      "cell_type": "code",
      "source": [
        ""
      ],
      "metadata": {
        "id": "i7DkhKMnYCBF"
      },
      "id": "i7DkhKMnYCBF",
      "execution_count": 33,
      "outputs": []
    },
    {
      "cell_type": "code",
      "source": [
        "import gc\n",
        "gc.collect()"
      ],
      "metadata": {
        "colab": {
          "base_uri": "https://localhost:8080/"
        },
        "id": "kdPzZdMZYIaC",
        "outputId": "617a6f96-873c-4e6c-be39-e3d7edcdc0a4"
      },
      "id": "kdPzZdMZYIaC",
      "execution_count": 34,
      "outputs": [
        {
          "output_type": "execute_result",
          "data": {
            "text/plain": [
              "282"
            ]
          },
          "metadata": {},
          "execution_count": 34
        }
      ]
    },
    {
      "cell_type": "markdown",
      "metadata": {
        "id": "f4fc6bb3-47d2-417c-806a-8905728a5026"
      },
      "source": [
        "## Fetch the datasets as Pandas DataFrames"
      ],
      "id": "f4fc6bb3-47d2-417c-806a-8905728a5026"
    },
    {
      "cell_type": "markdown",
      "metadata": {
        "id": "a1d38ce0-45da-40f1-9322-ed1b22e5aaff"
      },
      "source": [
        "## Model training with Layer"
      ],
      "id": "a1d38ce0-45da-40f1-9322-ed1b22e5aaff"
    },
    {
      "cell_type": "code",
      "execution_count": 35,
      "metadata": {
        "id": "cc9d696b-d420-4f85-92a5-f45b28251aa2"
      },
      "outputs": [],
      "source": [
        "@model(\"air_model3\")\n",
        "@pip_requirements(packages=[\"lightgbm\",\"seaborn\"])\n",
        "def train():\n",
        "    from sklearn.model_selection import train_test_split\n",
        "    import lightgbm as lgb\n",
        "    from sklearn import metrics\n",
        "    import numpy as np\n",
        "    import pandas as pd\n",
        "    from sklearn.preprocessing import LabelEncoder\n",
        "    import matplotlib.pyplot as plt\n",
        "    import seaborn as sns\n",
        "\n",
        "    test_size = 0.30\n",
        "    random_state = 0\n",
        "    layer.log({\"test_size\":test_size})\n",
        "    layer.log({\"random_state\":random_state})\n",
        "    X = train_df.drop([\"pm2_5\", \"ID\",\"date\"], axis=1)\n",
        "    labelencoder = LabelEncoder()\n",
        "    X = X.assign(device = labelencoder.fit_transform(X[\"device\"]))\n",
        "\n",
        "    y = train_df[\"pm2_5\"]\n",
        "    X_train, X_test, y_train, y_test = train_test_split(X, y, test_size=test_size, random_state=random_state)\n",
        "    lgb_train = lgb.Dataset(X_train, y_train)\n",
        "    lgb_eval = lgb.Dataset(X_test, y_test, reference=lgb_train)\n",
        "    params = {'boosting_type': 'gbdt',\n",
        "              'objective': 'regression',\n",
        "              'num_leaves': 40,\n",
        "              'learning_rate': 0.1,\n",
        "              'feature_fraction': 0.9\n",
        "              }\n",
        "    layer.log(params)\n",
        "    categories = X.select_dtypes(include=['object']).columns.tolist() \n",
        "    feature_name = list(X.columns)\n",
        "    evals={}\n",
        "    gbm = lgb.train(\n",
        "                params,\n",
        "                lgb_train,\n",
        "                num_boost_round=200,\n",
        "                callbacks = [lgb.record_evaluation(evals)],\n",
        "                valid_sets=[lgb_train, lgb_eval],\n",
        "                valid_names=['train','valid']\n",
        "    )\n",
        "    predictions = gbm.predict(X_test)\n",
        "    predctions_df = pd.DataFrame(predictions,columns=['Predicted pm2_5'])\n",
        "    layer.log({\"Sample predictions\":predctions_df.head(100)})\n",
        "    layer.log({'Mean Absolute Error':metrics.mean_absolute_error(y_test, predictions)})\n",
        "    layer.log({'Mean Squarred Error': metrics.mean_squared_error(y_test, predictions)})\n",
        "    layer.log({'Root Mean Squared Error': np.sqrt(metrics.mean_squared_error(y_test, predictions))})\n",
        "\n",
        "    importance = gbm.feature_importance()\n",
        "    importances_rfc_df = pd.DataFrame(importance, index=X.columns, columns=['Importance'])\n",
        "    importances_rfc_df = importances_rfc_df.sort_values(by='Importance', ascending=False)\n",
        "    importances_rfc_df = importances_rfc_df[importances_rfc_df['Importance'] > 0]\n",
        "    importances_rfc_df = importances_rfc_df.head(10)\n",
        "\n",
        "    plt.figure(figsize=(8,8))\n",
        "    plt.xticks(rotation=60, fontsize = 20)\n",
        "    sns.barplot(y=importances_rfc_df.index, x=importances_rfc_df['Importance'])\n",
        "    layer.log({\"Feature importance\": plt.gcf()})\n",
        "    layer.log({\"Training metrics\": lgb.plot_metric(evals)})\n",
        "\n",
        "    return gbm"
      ],
      "id": "cc9d696b-d420-4f85-92a5-f45b28251aa2"
    },
    {
      "cell_type": "code",
      "execution_count": 36,
      "metadata": {
        "colab": {
          "base_uri": "https://localhost:8080/",
          "height": 88,
          "referenced_widgets": [
            "d8e991667aa94abb943448c53ade3fe3",
            "805fcfbe10f44139ac4ebcaaaee8f385"
          ]
        },
        "id": "697abee0-631a-44d9-be89-1190349d5a16",
        "outputId": "0b8786d3-23e6-405d-fe9e-9fcc518fb40e"
      },
      "outputs": [
        {
          "output_type": "display_data",
          "data": {
            "text/plain": [
              "Output()"
            ],
            "application/vnd.jupyter.widget-view+json": {
              "version_major": 2,
              "version_minor": 0,
              "model_id": "d8e991667aa94abb943448c53ade3fe3"
            }
          },
          "metadata": {}
        },
        {
          "output_type": "display_data",
          "data": {
            "text/plain": [
              ""
            ],
            "text/html": [
              "<pre style=\"white-space:pre;overflow-x:auto;line-height:normal;font-family:Menlo,'DejaVu Sans Mono',consolas,'Courier New',monospace\"></pre>\n"
            ]
          },
          "metadata": {}
        },
        {
          "output_type": "display_data",
          "data": {
            "text/plain": [
              "\n"
            ],
            "text/html": [
              "<pre style=\"white-space:pre;overflow-x:auto;line-height:normal;font-family:Menlo,'DejaVu Sans Mono',consolas,'Courier New',monospace\">\n",
              "</pre>\n"
            ]
          },
          "metadata": {}
        },
        {
          "output_type": "execute_result",
          "data": {
            "text/plain": [
              "Run(id=value: \"54812aa2-977d-4c1d-bf16-69d2dc7255b2\"\n",
              ", project_full_name=ProjectFullName(account_name='siwar', project_name='sample-air-quality'))"
            ]
          },
          "metadata": {},
          "execution_count": 36
        }
      ],
      "source": [
        "layer.run([train])"
      ],
      "id": "697abee0-631a-44d9-be89-1190349d5a16"
    },
    {
      "cell_type": "markdown",
      "metadata": {
        "id": "GUZQ2IX4cKaE"
      },
      "source": [
        "## Use the model to make predictions "
      ],
      "id": "GUZQ2IX4cKaE"
    },
    {
      "cell_type": "code",
      "execution_count": 41,
      "metadata": {
        "colab": {
          "base_uri": "https://localhost:8080/",
          "height": 36,
          "referenced_widgets": [
            "63ac0ad063f245dab80fa61d60d63dd0",
            "5843e0c78d9041eb83439ba4cf183072"
          ]
        },
        "id": "0c0a7105-cf13-4a70-a63b-8b6e9a440ee3",
        "outputId": "c04ebe72-d6b1-4d63-fc37-895d309bccc3"
      },
      "outputs": [
        {
          "output_type": "display_data",
          "data": {
            "text/plain": [
              "Output()"
            ],
            "application/vnd.jupyter.widget-view+json": {
              "version_major": 2,
              "version_minor": 0,
              "model_id": "63ac0ad063f245dab80fa61d60d63dd0"
            }
          },
          "metadata": {}
        },
        {
          "output_type": "display_data",
          "data": {
            "text/plain": [
              ""
            ],
            "text/html": [
              "<pre style=\"white-space:pre;overflow-x:auto;line-height:normal;font-family:Menlo,'DejaVu Sans Mono',consolas,'Courier New',monospace\"></pre>\n"
            ]
          },
          "metadata": {}
        },
        {
          "output_type": "display_data",
          "data": {
            "text/plain": [
              "\n"
            ],
            "text/html": [
              "<pre style=\"white-space:pre;overflow-x:auto;line-height:normal;font-family:Menlo,'DejaVu Sans Mono',consolas,'Courier New',monospace\">\n",
              "</pre>\n"
            ]
          },
          "metadata": {}
        }
      ],
      "source": [
        "my_model = layer.get_model(\"siwar/sample-air-quality/models/air_model3:1.2\").get_train()"
      ],
      "id": "0c0a7105-cf13-4a70-a63b-8b6e9a440ee3"
    },
    {
      "cell_type": "code",
      "execution_count": 42,
      "metadata": {
        "id": "rgeqLhEtceCf"
      },
      "outputs": [],
      "source": [
        "from sklearn.preprocessing import LabelEncoder\n",
        "X = test_df.drop([\"ID\",\"date\"], axis=1)\n",
        "labelencoder = LabelEncoder()\n",
        "X = X.assign(device = labelencoder.fit_transform(X[\"device\"]))"
      ],
      "id": "rgeqLhEtceCf"
    },
    {
      "cell_type": "code",
      "execution_count": 43,
      "metadata": {
        "id": "XCHS4wpgdI3C"
      },
      "outputs": [],
      "source": [
        "predictions = my_model.predict(X)"
      ],
      "id": "XCHS4wpgdI3C"
    },
    {
      "cell_type": "markdown",
      "metadata": {
        "id": "99dMm6OwdXSI"
      },
      "source": [
        "## Generate submission file"
      ],
      "id": "99dMm6OwdXSI"
    },
    {
      "cell_type": "code",
      "execution_count": 44,
      "metadata": {
        "id": "uHVzonO4dK_t"
      },
      "outputs": [],
      "source": [
        "import pandas as pd\n",
        "submission = pd.DataFrame(data=test_df[\"ID\"], columns = [\"ID\"])\n",
        "submission[\"pm2_5\"] = predictions"
      ],
      "id": "uHVzonO4dK_t"
    },
    {
      "cell_type": "code",
      "execution_count": 45,
      "metadata": {
        "colab": {
          "base_uri": "https://localhost:8080/",
          "height": 206
        },
        "id": "haz-SZpXdvD-",
        "outputId": "4ed95d8d-7cfa-49a4-a0e3-07e2cd569e45"
      },
      "outputs": [
        {
          "output_type": "execute_result",
          "data": {
            "text/plain": [
              "              ID       pm2_5\n",
              "0  ID_UOH62J0XHX   36.111023\n",
              "1  ID_4OPWSB0UHJ  102.462394\n",
              "2  ID_3SLMNNG1Z3   55.523602\n",
              "3  ID_MFUHTXYPM4   73.747978\n",
              "4  ID_TY1DAND8ZP   79.541626"
            ],
            "text/html": [
              "\n",
              "  <div id=\"df-c9de80a6-f108-4e89-9528-59834837fd30\">\n",
              "    <div class=\"colab-df-container\">\n",
              "      <div>\n",
              "<style scoped>\n",
              "    .dataframe tbody tr th:only-of-type {\n",
              "        vertical-align: middle;\n",
              "    }\n",
              "\n",
              "    .dataframe tbody tr th {\n",
              "        vertical-align: top;\n",
              "    }\n",
              "\n",
              "    .dataframe thead th {\n",
              "        text-align: right;\n",
              "    }\n",
              "</style>\n",
              "<table border=\"1\" class=\"dataframe\">\n",
              "  <thead>\n",
              "    <tr style=\"text-align: right;\">\n",
              "      <th></th>\n",
              "      <th>ID</th>\n",
              "      <th>pm2_5</th>\n",
              "    </tr>\n",
              "  </thead>\n",
              "  <tbody>\n",
              "    <tr>\n",
              "      <th>0</th>\n",
              "      <td>ID_UOH62J0XHX</td>\n",
              "      <td>36.111023</td>\n",
              "    </tr>\n",
              "    <tr>\n",
              "      <th>1</th>\n",
              "      <td>ID_4OPWSB0UHJ</td>\n",
              "      <td>102.462394</td>\n",
              "    </tr>\n",
              "    <tr>\n",
              "      <th>2</th>\n",
              "      <td>ID_3SLMNNG1Z3</td>\n",
              "      <td>55.523602</td>\n",
              "    </tr>\n",
              "    <tr>\n",
              "      <th>3</th>\n",
              "      <td>ID_MFUHTXYPM4</td>\n",
              "      <td>73.747978</td>\n",
              "    </tr>\n",
              "    <tr>\n",
              "      <th>4</th>\n",
              "      <td>ID_TY1DAND8ZP</td>\n",
              "      <td>79.541626</td>\n",
              "    </tr>\n",
              "  </tbody>\n",
              "</table>\n",
              "</div>\n",
              "      <button class=\"colab-df-convert\" onclick=\"convertToInteractive('df-c9de80a6-f108-4e89-9528-59834837fd30')\"\n",
              "              title=\"Convert this dataframe to an interactive table.\"\n",
              "              style=\"display:none;\">\n",
              "        \n",
              "  <svg xmlns=\"http://www.w3.org/2000/svg\" height=\"24px\"viewBox=\"0 0 24 24\"\n",
              "       width=\"24px\">\n",
              "    <path d=\"M0 0h24v24H0V0z\" fill=\"none\"/>\n",
              "    <path d=\"M18.56 5.44l.94 2.06.94-2.06 2.06-.94-2.06-.94-.94-2.06-.94 2.06-2.06.94zm-11 1L8.5 8.5l.94-2.06 2.06-.94-2.06-.94L8.5 2.5l-.94 2.06-2.06.94zm10 10l.94 2.06.94-2.06 2.06-.94-2.06-.94-.94-2.06-.94 2.06-2.06.94z\"/><path d=\"M17.41 7.96l-1.37-1.37c-.4-.4-.92-.59-1.43-.59-.52 0-1.04.2-1.43.59L10.3 9.45l-7.72 7.72c-.78.78-.78 2.05 0 2.83L4 21.41c.39.39.9.59 1.41.59.51 0 1.02-.2 1.41-.59l7.78-7.78 2.81-2.81c.8-.78.8-2.07 0-2.86zM5.41 20L4 18.59l7.72-7.72 1.47 1.35L5.41 20z\"/>\n",
              "  </svg>\n",
              "      </button>\n",
              "      \n",
              "  <style>\n",
              "    .colab-df-container {\n",
              "      display:flex;\n",
              "      flex-wrap:wrap;\n",
              "      gap: 12px;\n",
              "    }\n",
              "\n",
              "    .colab-df-convert {\n",
              "      background-color: #E8F0FE;\n",
              "      border: none;\n",
              "      border-radius: 50%;\n",
              "      cursor: pointer;\n",
              "      display: none;\n",
              "      fill: #1967D2;\n",
              "      height: 32px;\n",
              "      padding: 0 0 0 0;\n",
              "      width: 32px;\n",
              "    }\n",
              "\n",
              "    .colab-df-convert:hover {\n",
              "      background-color: #E2EBFA;\n",
              "      box-shadow: 0px 1px 2px rgba(60, 64, 67, 0.3), 0px 1px 3px 1px rgba(60, 64, 67, 0.15);\n",
              "      fill: #174EA6;\n",
              "    }\n",
              "\n",
              "    [theme=dark] .colab-df-convert {\n",
              "      background-color: #3B4455;\n",
              "      fill: #D2E3FC;\n",
              "    }\n",
              "\n",
              "    [theme=dark] .colab-df-convert:hover {\n",
              "      background-color: #434B5C;\n",
              "      box-shadow: 0px 1px 3px 1px rgba(0, 0, 0, 0.15);\n",
              "      filter: drop-shadow(0px 1px 2px rgba(0, 0, 0, 0.3));\n",
              "      fill: #FFFFFF;\n",
              "    }\n",
              "  </style>\n",
              "\n",
              "      <script>\n",
              "        const buttonEl =\n",
              "          document.querySelector('#df-c9de80a6-f108-4e89-9528-59834837fd30 button.colab-df-convert');\n",
              "        buttonEl.style.display =\n",
              "          google.colab.kernel.accessAllowed ? 'block' : 'none';\n",
              "\n",
              "        async function convertToInteractive(key) {\n",
              "          const element = document.querySelector('#df-c9de80a6-f108-4e89-9528-59834837fd30');\n",
              "          const dataTable =\n",
              "            await google.colab.kernel.invokeFunction('convertToInteractive',\n",
              "                                                     [key], {});\n",
              "          if (!dataTable) return;\n",
              "\n",
              "          const docLinkHtml = 'Like what you see? Visit the ' +\n",
              "            '<a target=\"_blank\" href=https://colab.research.google.com/notebooks/data_table.ipynb>data table notebook</a>'\n",
              "            + ' to learn more about interactive tables.';\n",
              "          element.innerHTML = '';\n",
              "          dataTable['output_type'] = 'display_data';\n",
              "          await google.colab.output.renderOutput(dataTable, element);\n",
              "          const docLink = document.createElement('div');\n",
              "          docLink.innerHTML = docLinkHtml;\n",
              "          element.appendChild(docLink);\n",
              "        }\n",
              "      </script>\n",
              "    </div>\n",
              "  </div>\n",
              "  "
            ]
          },
          "metadata": {},
          "execution_count": 45
        }
      ],
      "source": [
        "submission.head()"
      ],
      "id": "haz-SZpXdvD-"
    },
    {
      "cell_type": "code",
      "execution_count": 46,
      "metadata": {
        "id": "DYssPq94dwcV"
      },
      "outputs": [],
      "source": [
        "submission.to_csv(\"submission.csv\",index=False)"
      ],
      "id": "DYssPq94dwcV"
    },
    {
      "cell_type": "code",
      "execution_count": null,
      "metadata": {
        "id": "vTEBiy2qcRZ0"
      },
      "outputs": [],
      "source": [
        ""
      ],
      "id": "vTEBiy2qcRZ0"
    },
    {
      "cell_type": "code",
      "source": [
        "param = {'num_leaves': 100,\n",
        "         'min_data_in_leaf': 50, \n",
        "         'objective':'regression',\n",
        "         'max_depth': -1,\n",
        "         'learning_rate': 0.075,\n",
        "         \"boosting\": \"gbdt\",\n",
        "         \"feature_fraction\": 0.35,\n",
        "         \"metric\": 'auc',\n",
        "         \"lambda_l1\": 1,\n",
        "         \"lambda_l2\": 2,\n",
        "         \"random_state\": 6,\n",
        "         \"verbosity\": -1,\n",
        "          'metric' : 'rmse',\n",
        "          'num_iterations': 2600}"
      ],
      "metadata": {
        "id": "M4_8ecK5O5vj"
      },
      "id": "M4_8ecK5O5vj",
      "execution_count": 47,
      "outputs": []
    },
    {
      "cell_type": "code",
      "source": [
        "target_cols = ['pm2_5']\n",
        "oofs_df = pd.DataFrame()\n",
        "preds_df = pd.DataFrame()\n",
        "for t_col in target_cols:\n",
        "    oofs_df[t_col] = np.zeros(len(train_df))\n",
        "    preds_df[t_col] = np.zeros(len(test_df))"
      ],
      "metadata": {
        "id": "cESUqrQBPAXT"
      },
      "id": "cESUqrQBPAXT",
      "execution_count": 49,
      "outputs": []
    },
    {
      "cell_type": "code",
      "source": [
        "import lightgbm as lgb"
      ],
      "metadata": {
        "id": "e-71--28Pt8l"
      },
      "id": "e-71--28Pt8l",
      "execution_count": 51,
      "outputs": []
    },
    {
      "cell_type": "code",
      "source": [
        "max_iter = 15\n",
        "folds = StratifiedKFold(n_splits=max_iter, random_state=None)\n",
        "\n",
        "for fold_, (trn_idx, val_idx) in enumerate(folds.split(train_df.values, pd.qcut(target, 10, labels=False, duplicates='drop'))):\n",
        "    print(\"\\nfold n°{}\".format(fold_))\n",
        "    X_trn, X_val, X_test = train_df.iloc[trn_idx][features], train_df.iloc[val_idx][features], test_df[features]\n",
        "    for t_col in target_cols:\n",
        "        target = train_df[t_col]\n",
        "        print(f\"\\n\\n**** {t_col} ****\\n\")\n",
        "        y_trn, y_val = target.iloc[trn_idx], target.iloc[val_idx]\n",
        "        trn_data = lgb.Dataset(X_trn, y_trn)\n",
        "        val_data = lgb.Dataset(X_val, y_val)\n",
        "        \n",
        "        clf = lgb.train(param, trn_data, valid_sets = [trn_data, val_data], verbose_eval=50, early_stopping_rounds = 200)\n",
        "\n",
        "        oofs_df[t_col][val_idx] = clf.predict(X_val, num_iteration=clf.best_iteration)\n",
        "        current_test_pred = clf.predict(X_test, num_iteration=clf.best_iteration)\n",
        "        current_test_pred[current_test_pred < 0] = 0\n",
        "        preds_df[t_col] += current_test_pred / folds.n_splits"
      ],
      "metadata": {
        "id": "1PaZ2dSLPEpz",
        "outputId": "01b4b9d6-0ab4-43c7-c212-110fcabec1da",
        "colab": {
          "base_uri": "https://localhost:8080/"
        }
      },
      "id": "1PaZ2dSLPEpz",
      "execution_count": 61,
      "outputs": [
        {
          "output_type": "stream",
          "name": "stdout",
          "text": [
            "\n",
            "fold n°0\n",
            "\n",
            "\n",
            "**** pm2_5 ****\n",
            "\n"
          ]
        },
        {
          "output_type": "stream",
          "name": "stderr",
          "text": [
            "/usr/local/lib/python3.7/dist-packages/lightgbm/engine.py:118: UserWarning: Found `num_iterations` in params. Will use it instead of argument\n",
            "  warnings.warn(\"Found `{}` in params. Will use it instead of argument\".format(alias))\n"
          ]
        },
        {
          "output_type": "stream",
          "name": "stdout",
          "text": [
            "Training until validation scores don't improve for 200 rounds.\n",
            "[50]\ttraining's rmse: 9.66536\tvalid_1's rmse: 11.1783\n",
            "[100]\ttraining's rmse: 6.68061\tvalid_1's rmse: 10.7421\n",
            "[150]\ttraining's rmse: 5.21562\tvalid_1's rmse: 10.7345\n",
            "[200]\ttraining's rmse: 4.3781\tvalid_1's rmse: 10.7715\n",
            "[250]\ttraining's rmse: 3.85107\tvalid_1's rmse: 10.7958\n",
            "[300]\ttraining's rmse: 3.48013\tvalid_1's rmse: 10.8244\n",
            "Early stopping, best iteration is:\n",
            "[105]\ttraining's rmse: 6.48764\tvalid_1's rmse: 10.7145\n",
            "\n",
            "fold n°1\n",
            "\n",
            "\n",
            "**** pm2_5 ****\n",
            "\n",
            "Training until validation scores don't improve for 200 rounds.\n",
            "[50]\ttraining's rmse: 9.48029\tvalid_1's rmse: 13.1815\n",
            "[100]\ttraining's rmse: 6.54153\tvalid_1's rmse: 12.7519\n",
            "[150]\ttraining's rmse: 5.11889\tvalid_1's rmse: 12.7341\n",
            "[200]\ttraining's rmse: 4.30175\tvalid_1's rmse: 12.7487\n",
            "[250]\ttraining's rmse: 3.79195\tvalid_1's rmse: 12.7522\n",
            "[300]\ttraining's rmse: 3.43557\tvalid_1's rmse: 12.7445\n",
            "Early stopping, best iteration is:\n",
            "[118]\ttraining's rmse: 5.93784\tvalid_1's rmse: 12.7249\n",
            "\n",
            "fold n°2\n",
            "\n",
            "\n",
            "**** pm2_5 ****\n",
            "\n",
            "Training until validation scores don't improve for 200 rounds.\n",
            "[50]\ttraining's rmse: 9.67052\tvalid_1's rmse: 11.7218\n",
            "[100]\ttraining's rmse: 6.71118\tvalid_1's rmse: 11.1471\n",
            "[150]\ttraining's rmse: 5.25297\tvalid_1's rmse: 11.0453\n",
            "[200]\ttraining's rmse: 4.41733\tvalid_1's rmse: 11.0323\n",
            "[250]\ttraining's rmse: 3.88819\tvalid_1's rmse: 11.0311\n",
            "[300]\ttraining's rmse: 3.51294\tvalid_1's rmse: 11.0425\n",
            "[350]\ttraining's rmse: 3.22364\tvalid_1's rmse: 11.0506\n",
            "Early stopping, best iteration is:\n",
            "[175]\ttraining's rmse: 4.79005\tvalid_1's rmse: 11.0101\n",
            "\n",
            "fold n°3\n",
            "\n",
            "\n",
            "**** pm2_5 ****\n",
            "\n",
            "Training until validation scores don't improve for 200 rounds.\n",
            "[50]\ttraining's rmse: 9.37838\tvalid_1's rmse: 14.8756\n",
            "[100]\ttraining's rmse: 6.52271\tvalid_1's rmse: 14.4485\n",
            "[150]\ttraining's rmse: 5.07532\tvalid_1's rmse: 14.4045\n",
            "[200]\ttraining's rmse: 4.24989\tvalid_1's rmse: 14.4122\n",
            "[250]\ttraining's rmse: 3.7506\tvalid_1's rmse: 14.436\n",
            "[300]\ttraining's rmse: 3.40626\tvalid_1's rmse: 14.4525\n",
            "Early stopping, best iteration is:\n",
            "[137]\ttraining's rmse: 5.37839\tvalid_1's rmse: 14.3881\n",
            "\n",
            "fold n°4\n",
            "\n",
            "\n",
            "**** pm2_5 ****\n",
            "\n",
            "Training until validation scores don't improve for 200 rounds.\n",
            "[50]\ttraining's rmse: 9.54382\tvalid_1's rmse: 13.2769\n",
            "[100]\ttraining's rmse: 6.64303\tvalid_1's rmse: 12.7771\n",
            "[150]\ttraining's rmse: 5.23346\tvalid_1's rmse: 12.7502\n",
            "[200]\ttraining's rmse: 4.40887\tvalid_1's rmse: 12.7059\n",
            "[250]\ttraining's rmse: 3.87887\tvalid_1's rmse: 12.6918\n",
            "[300]\ttraining's rmse: 3.50608\tvalid_1's rmse: 12.6967\n",
            "[350]\ttraining's rmse: 3.21825\tvalid_1's rmse: 12.7099\n",
            "[400]\ttraining's rmse: 2.98796\tvalid_1's rmse: 12.7168\n",
            "Early stopping, best iteration is:\n",
            "[244]\ttraining's rmse: 3.93266\tvalid_1's rmse: 12.6874\n",
            "\n",
            "fold n°5\n",
            "\n",
            "\n",
            "**** pm2_5 ****\n",
            "\n",
            "Training until validation scores don't improve for 200 rounds.\n",
            "[50]\ttraining's rmse: 8.8099\tvalid_1's rmse: 20.1427\n",
            "[100]\ttraining's rmse: 5.61907\tvalid_1's rmse: 19.772\n",
            "[150]\ttraining's rmse: 3.98013\tvalid_1's rmse: 19.6987\n",
            "[200]\ttraining's rmse: 2.9966\tvalid_1's rmse: 19.6303\n",
            "[250]\ttraining's rmse: 2.38197\tvalid_1's rmse: 19.589\n",
            "[300]\ttraining's rmse: 1.96521\tvalid_1's rmse: 19.5762\n",
            "[350]\ttraining's rmse: 1.66953\tvalid_1's rmse: 19.5797\n",
            "[400]\ttraining's rmse: 1.43807\tvalid_1's rmse: 19.5644\n",
            "[450]\ttraining's rmse: 1.25422\tvalid_1's rmse: 19.5502\n",
            "[500]\ttraining's rmse: 1.10465\tvalid_1's rmse: 19.5515\n",
            "[550]\ttraining's rmse: 0.977547\tvalid_1's rmse: 19.5496\n",
            "[600]\ttraining's rmse: 0.869448\tvalid_1's rmse: 19.5452\n",
            "[650]\ttraining's rmse: 0.775379\tvalid_1's rmse: 19.5333\n",
            "[700]\ttraining's rmse: 0.693611\tvalid_1's rmse: 19.5324\n",
            "[750]\ttraining's rmse: 0.621418\tvalid_1's rmse: 19.5367\n",
            "[800]\ttraining's rmse: 0.556926\tvalid_1's rmse: 19.5335\n",
            "[850]\ttraining's rmse: 0.502205\tvalid_1's rmse: 19.5379\n",
            "[900]\ttraining's rmse: 0.45322\tvalid_1's rmse: 19.539\n",
            "Early stopping, best iteration is:\n",
            "[722]\ttraining's rmse: 0.661093\tvalid_1's rmse: 19.5301\n",
            "\n",
            "fold n°6\n",
            "\n",
            "\n",
            "**** pm2_5 ****\n",
            "\n",
            "Training until validation scores don't improve for 200 rounds.\n",
            "[50]\ttraining's rmse: 9.55358\tvalid_1's rmse: 12.5442\n",
            "[100]\ttraining's rmse: 6.62835\tvalid_1's rmse: 12.3276\n",
            "[150]\ttraining's rmse: 5.18787\tvalid_1's rmse: 12.326\n",
            "[200]\ttraining's rmse: 4.36848\tvalid_1's rmse: 12.3212\n",
            "[250]\ttraining's rmse: 3.84032\tvalid_1's rmse: 12.3375\n",
            "[300]\ttraining's rmse: 3.47669\tvalid_1's rmse: 12.3343\n",
            "Early stopping, best iteration is:\n",
            "[125]\ttraining's rmse: 5.79843\tvalid_1's rmse: 12.2898\n",
            "\n",
            "fold n°7\n",
            "\n",
            "\n",
            "**** pm2_5 ****\n",
            "\n",
            "Training until validation scores don't improve for 200 rounds.\n",
            "[50]\ttraining's rmse: 9.35139\tvalid_1's rmse: 15.5749\n",
            "[100]\ttraining's rmse: 6.50847\tvalid_1's rmse: 14.9575\n",
            "[150]\ttraining's rmse: 5.07784\tvalid_1's rmse: 14.7946\n",
            "[200]\ttraining's rmse: 4.25827\tvalid_1's rmse: 14.8074\n",
            "[250]\ttraining's rmse: 3.74423\tvalid_1's rmse: 14.8006\n",
            "[300]\ttraining's rmse: 3.38907\tvalid_1's rmse: 14.781\n",
            "[350]\ttraining's rmse: 3.10849\tvalid_1's rmse: 14.7891\n",
            "[400]\ttraining's rmse: 2.87453\tvalid_1's rmse: 14.7862\n",
            "[450]\ttraining's rmse: 2.67176\tvalid_1's rmse: 14.7876\n",
            "Early stopping, best iteration is:\n",
            "[295]\ttraining's rmse: 3.42023\tvalid_1's rmse: 14.7775\n",
            "\n",
            "fold n°8\n",
            "\n",
            "\n",
            "**** pm2_5 ****\n",
            "\n",
            "Training until validation scores don't improve for 200 rounds.\n",
            "[50]\ttraining's rmse: 9.56215\tvalid_1's rmse: 12.314\n",
            "[100]\ttraining's rmse: 6.62184\tvalid_1's rmse: 11.9173\n",
            "[150]\ttraining's rmse: 5.18389\tvalid_1's rmse: 11.882\n",
            "[200]\ttraining's rmse: 4.36806\tvalid_1's rmse: 11.8524\n",
            "[250]\ttraining's rmse: 3.85017\tvalid_1's rmse: 11.8574\n",
            "[300]\ttraining's rmse: 3.48584\tvalid_1's rmse: 11.857\n",
            "[350]\ttraining's rmse: 3.20727\tvalid_1's rmse: 11.8805\n",
            "[400]\ttraining's rmse: 2.97923\tvalid_1's rmse: 11.8952\n",
            "Early stopping, best iteration is:\n",
            "[202]\ttraining's rmse: 4.34336\tvalid_1's rmse: 11.8471\n",
            "\n",
            "fold n°9\n",
            "\n",
            "\n",
            "**** pm2_5 ****\n",
            "\n",
            "Training until validation scores don't improve for 200 rounds.\n",
            "[50]\ttraining's rmse: 9.63812\tvalid_1's rmse: 12.6406\n",
            "[100]\ttraining's rmse: 6.66887\tvalid_1's rmse: 12.0372\n",
            "[150]\ttraining's rmse: 5.19735\tvalid_1's rmse: 11.9065\n",
            "[200]\ttraining's rmse: 4.36777\tvalid_1's rmse: 11.8817\n",
            "[250]\ttraining's rmse: 3.83965\tvalid_1's rmse: 11.8685\n",
            "[300]\ttraining's rmse: 3.46414\tvalid_1's rmse: 11.8848\n",
            "[350]\ttraining's rmse: 3.18292\tvalid_1's rmse: 11.8827\n",
            "[400]\ttraining's rmse: 2.95618\tvalid_1's rmse: 11.8855\n",
            "Early stopping, best iteration is:\n",
            "[246]\ttraining's rmse: 3.87656\tvalid_1's rmse: 11.8645\n",
            "\n",
            "fold n°10\n",
            "\n",
            "\n",
            "**** pm2_5 ****\n",
            "\n",
            "Training until validation scores don't improve for 200 rounds.\n",
            "[50]\ttraining's rmse: 9.46486\tvalid_1's rmse: 13.8942\n",
            "[100]\ttraining's rmse: 6.53759\tvalid_1's rmse: 13.3882\n",
            "[150]\ttraining's rmse: 5.07155\tvalid_1's rmse: 13.2952\n",
            "[200]\ttraining's rmse: 4.23943\tvalid_1's rmse: 13.2196\n",
            "[300]\ttraining's rmse: 3.38186\tvalid_1's rmse: 13.2149\n",
            "[350]\ttraining's rmse: 3.10771\tvalid_1's rmse: 13.222\n",
            "[400]\ttraining's rmse: 2.89658\tvalid_1's rmse: 13.2175\n",
            "[450]\ttraining's rmse: 2.7122\tvalid_1's rmse: 13.2268\n",
            "[500]\ttraining's rmse: 2.5501\tvalid_1's rmse: 13.23\n",
            "Early stopping, best iteration is:\n",
            "[317]\ttraining's rmse: 3.28334\tvalid_1's rmse: 13.206\n",
            "\n",
            "fold n°11\n",
            "\n",
            "\n",
            "**** pm2_5 ****\n",
            "\n",
            "Training until validation scores don't improve for 200 rounds.\n",
            "[50]\ttraining's rmse: 9.64965\tvalid_1's rmse: 12.7252\n",
            "[100]\ttraining's rmse: 6.72943\tvalid_1's rmse: 11.9035\n",
            "[150]\ttraining's rmse: 5.27259\tvalid_1's rmse: 11.7073\n",
            "[200]\ttraining's rmse: 4.43425\tvalid_1's rmse: 11.6374\n",
            "[250]\ttraining's rmse: 3.8946\tvalid_1's rmse: 11.6006\n",
            "[300]\ttraining's rmse: 3.51753\tvalid_1's rmse: 11.6034\n",
            "[350]\ttraining's rmse: 3.22531\tvalid_1's rmse: 11.6126\n",
            "[400]\ttraining's rmse: 2.9967\tvalid_1's rmse: 11.6204\n",
            "[450]\ttraining's rmse: 2.79606\tvalid_1's rmse: 11.6201\n",
            "Early stopping, best iteration is:\n",
            "[265]\ttraining's rmse: 3.76558\tvalid_1's rmse: 11.593\n",
            "\n",
            "fold n°12\n",
            "\n",
            "\n",
            "**** pm2_5 ****\n",
            "\n",
            "Training until validation scores don't improve for 200 rounds.\n",
            "[50]\ttraining's rmse: 9.56404\tvalid_1's rmse: 12.7952\n",
            "[100]\ttraining's rmse: 6.63981\tvalid_1's rmse: 12.188\n",
            "[150]\ttraining's rmse: 5.19828\tvalid_1's rmse: 12.088\n",
            "[200]\ttraining's rmse: 4.37875\tvalid_1's rmse: 12.1138\n",
            "[250]\ttraining's rmse: 3.85041\tvalid_1's rmse: 12.1279\n",
            "[300]\ttraining's rmse: 3.47837\tvalid_1's rmse: 12.147\n",
            "[350]\ttraining's rmse: 3.20631\tvalid_1's rmse: 12.1492\n",
            "Early stopping, best iteration is:\n",
            "[152]\ttraining's rmse: 5.15985\tvalid_1's rmse: 12.0838\n",
            "\n",
            "fold n°13\n",
            "\n",
            "\n",
            "**** pm2_5 ****\n",
            "\n",
            "Training until validation scores don't improve for 200 rounds.\n",
            "[50]\ttraining's rmse: 9.60694\tvalid_1's rmse: 11.4799\n",
            "[100]\ttraining's rmse: 6.67355\tvalid_1's rmse: 10.6962\n",
            "[150]\ttraining's rmse: 5.22344\tvalid_1's rmse: 10.5595\n",
            "[200]\ttraining's rmse: 4.40324\tvalid_1's rmse: 10.4927\n",
            "[250]\ttraining's rmse: 3.87727\tvalid_1's rmse: 10.5255\n",
            "[300]\ttraining's rmse: 3.50509\tvalid_1's rmse: 10.5186\n",
            "[350]\ttraining's rmse: 3.22615\tvalid_1's rmse: 10.5227\n",
            "[400]\ttraining's rmse: 2.99708\tvalid_1's rmse: 10.5396\n",
            "Early stopping, best iteration is:\n",
            "[200]\ttraining's rmse: 4.40324\tvalid_1's rmse: 10.4927\n",
            "\n",
            "fold n°14\n",
            "\n",
            "\n",
            "**** pm2_5 ****\n",
            "\n",
            "Training until validation scores don't improve for 200 rounds.\n",
            "[50]\ttraining's rmse: 9.52192\tvalid_1's rmse: 13.5771\n",
            "[100]\ttraining's rmse: 6.62451\tvalid_1's rmse: 12.9533\n",
            "[150]\ttraining's rmse: 5.1979\tvalid_1's rmse: 12.8758\n",
            "[200]\ttraining's rmse: 4.39287\tvalid_1's rmse: 12.8874\n",
            "[250]\ttraining's rmse: 3.87898\tvalid_1's rmse: 12.9121\n",
            "[300]\ttraining's rmse: 3.51594\tvalid_1's rmse: 12.9414\n",
            "[350]\ttraining's rmse: 3.24481\tvalid_1's rmse: 12.957\n",
            "Early stopping, best iteration is:\n",
            "[167]\ttraining's rmse: 4.87525\tvalid_1's rmse: 12.8516\n"
          ]
        }
      ]
    },
    {
      "cell_type": "code",
      "source": [
        "predictions_test = preds_df['pm2_5']\n",
        "predictions_test[predictions_test < 0] = 0"
      ],
      "metadata": {
        "id": "C1A4ffZfPk83"
      },
      "id": "C1A4ffZfPk83",
      "execution_count": 62,
      "outputs": []
    },
    {
      "cell_type": "code",
      "source": [
        "SUB_FILE_NAME = 'preds_lgbm_v1.csv'\n",
        "sub_df = pd.DataFrame()\n",
        "sub_df[ID_COL] = test_df[ID_COL]\n",
        "sub_df[TARGET_COL] = predictions_test\n",
        "sub_df.to_csv(SUB_FILE_NAME, index=False)\n",
        "sub_df.head(10)"
      ],
      "metadata": {
        "id": "dLx04bTUQMou",
        "outputId": "78fa6c89-6dc3-4c75-a897-989ca0855553",
        "colab": {
          "base_uri": "https://localhost:8080/",
          "height": 363
        }
      },
      "id": "dLx04bTUQMou",
      "execution_count": 63,
      "outputs": [
        {
          "output_type": "execute_result",
          "data": {
            "text/plain": [
              "              ID       pm2_5\n",
              "0  ID_UOH62J0XHX  127.801553\n",
              "1  ID_4OPWSB0UHJ  279.503297\n",
              "2  ID_3SLMNNG1Z3  162.762354\n",
              "3  ID_MFUHTXYPM4  208.278616\n",
              "4  ID_TY1DAND8ZP  200.487524\n",
              "5  ID_1G270NSQ7O  230.053438\n",
              "6  ID_OLV7RAEKGP  198.088408\n",
              "7  ID_2JQD8OKWXK  125.418916\n",
              "8  ID_3PC4T4W9JW  150.936099\n",
              "9  ID_TYK7E1D8DN  175.817257"
            ],
            "text/html": [
              "\n",
              "  <div id=\"df-8ec8a6d9-11f8-4b57-a001-4546ecd2d1c4\">\n",
              "    <div class=\"colab-df-container\">\n",
              "      <div>\n",
              "<style scoped>\n",
              "    .dataframe tbody tr th:only-of-type {\n",
              "        vertical-align: middle;\n",
              "    }\n",
              "\n",
              "    .dataframe tbody tr th {\n",
              "        vertical-align: top;\n",
              "    }\n",
              "\n",
              "    .dataframe thead th {\n",
              "        text-align: right;\n",
              "    }\n",
              "</style>\n",
              "<table border=\"1\" class=\"dataframe\">\n",
              "  <thead>\n",
              "    <tr style=\"text-align: right;\">\n",
              "      <th></th>\n",
              "      <th>ID</th>\n",
              "      <th>pm2_5</th>\n",
              "    </tr>\n",
              "  </thead>\n",
              "  <tbody>\n",
              "    <tr>\n",
              "      <th>0</th>\n",
              "      <td>ID_UOH62J0XHX</td>\n",
              "      <td>127.801553</td>\n",
              "    </tr>\n",
              "    <tr>\n",
              "      <th>1</th>\n",
              "      <td>ID_4OPWSB0UHJ</td>\n",
              "      <td>279.503297</td>\n",
              "    </tr>\n",
              "    <tr>\n",
              "      <th>2</th>\n",
              "      <td>ID_3SLMNNG1Z3</td>\n",
              "      <td>162.762354</td>\n",
              "    </tr>\n",
              "    <tr>\n",
              "      <th>3</th>\n",
              "      <td>ID_MFUHTXYPM4</td>\n",
              "      <td>208.278616</td>\n",
              "    </tr>\n",
              "    <tr>\n",
              "      <th>4</th>\n",
              "      <td>ID_TY1DAND8ZP</td>\n",
              "      <td>200.487524</td>\n",
              "    </tr>\n",
              "    <tr>\n",
              "      <th>5</th>\n",
              "      <td>ID_1G270NSQ7O</td>\n",
              "      <td>230.053438</td>\n",
              "    </tr>\n",
              "    <tr>\n",
              "      <th>6</th>\n",
              "      <td>ID_OLV7RAEKGP</td>\n",
              "      <td>198.088408</td>\n",
              "    </tr>\n",
              "    <tr>\n",
              "      <th>7</th>\n",
              "      <td>ID_2JQD8OKWXK</td>\n",
              "      <td>125.418916</td>\n",
              "    </tr>\n",
              "    <tr>\n",
              "      <th>8</th>\n",
              "      <td>ID_3PC4T4W9JW</td>\n",
              "      <td>150.936099</td>\n",
              "    </tr>\n",
              "    <tr>\n",
              "      <th>9</th>\n",
              "      <td>ID_TYK7E1D8DN</td>\n",
              "      <td>175.817257</td>\n",
              "    </tr>\n",
              "  </tbody>\n",
              "</table>\n",
              "</div>\n",
              "      <button class=\"colab-df-convert\" onclick=\"convertToInteractive('df-8ec8a6d9-11f8-4b57-a001-4546ecd2d1c4')\"\n",
              "              title=\"Convert this dataframe to an interactive table.\"\n",
              "              style=\"display:none;\">\n",
              "        \n",
              "  <svg xmlns=\"http://www.w3.org/2000/svg\" height=\"24px\"viewBox=\"0 0 24 24\"\n",
              "       width=\"24px\">\n",
              "    <path d=\"M0 0h24v24H0V0z\" fill=\"none\"/>\n",
              "    <path d=\"M18.56 5.44l.94 2.06.94-2.06 2.06-.94-2.06-.94-.94-2.06-.94 2.06-2.06.94zm-11 1L8.5 8.5l.94-2.06 2.06-.94-2.06-.94L8.5 2.5l-.94 2.06-2.06.94zm10 10l.94 2.06.94-2.06 2.06-.94-2.06-.94-.94-2.06-.94 2.06-2.06.94z\"/><path d=\"M17.41 7.96l-1.37-1.37c-.4-.4-.92-.59-1.43-.59-.52 0-1.04.2-1.43.59L10.3 9.45l-7.72 7.72c-.78.78-.78 2.05 0 2.83L4 21.41c.39.39.9.59 1.41.59.51 0 1.02-.2 1.41-.59l7.78-7.78 2.81-2.81c.8-.78.8-2.07 0-2.86zM5.41 20L4 18.59l7.72-7.72 1.47 1.35L5.41 20z\"/>\n",
              "  </svg>\n",
              "      </button>\n",
              "      \n",
              "  <style>\n",
              "    .colab-df-container {\n",
              "      display:flex;\n",
              "      flex-wrap:wrap;\n",
              "      gap: 12px;\n",
              "    }\n",
              "\n",
              "    .colab-df-convert {\n",
              "      background-color: #E8F0FE;\n",
              "      border: none;\n",
              "      border-radius: 50%;\n",
              "      cursor: pointer;\n",
              "      display: none;\n",
              "      fill: #1967D2;\n",
              "      height: 32px;\n",
              "      padding: 0 0 0 0;\n",
              "      width: 32px;\n",
              "    }\n",
              "\n",
              "    .colab-df-convert:hover {\n",
              "      background-color: #E2EBFA;\n",
              "      box-shadow: 0px 1px 2px rgba(60, 64, 67, 0.3), 0px 1px 3px 1px rgba(60, 64, 67, 0.15);\n",
              "      fill: #174EA6;\n",
              "    }\n",
              "\n",
              "    [theme=dark] .colab-df-convert {\n",
              "      background-color: #3B4455;\n",
              "      fill: #D2E3FC;\n",
              "    }\n",
              "\n",
              "    [theme=dark] .colab-df-convert:hover {\n",
              "      background-color: #434B5C;\n",
              "      box-shadow: 0px 1px 3px 1px rgba(0, 0, 0, 0.15);\n",
              "      filter: drop-shadow(0px 1px 2px rgba(0, 0, 0, 0.3));\n",
              "      fill: #FFFFFF;\n",
              "    }\n",
              "  </style>\n",
              "\n",
              "      <script>\n",
              "        const buttonEl =\n",
              "          document.querySelector('#df-8ec8a6d9-11f8-4b57-a001-4546ecd2d1c4 button.colab-df-convert');\n",
              "        buttonEl.style.display =\n",
              "          google.colab.kernel.accessAllowed ? 'block' : 'none';\n",
              "\n",
              "        async function convertToInteractive(key) {\n",
              "          const element = document.querySelector('#df-8ec8a6d9-11f8-4b57-a001-4546ecd2d1c4');\n",
              "          const dataTable =\n",
              "            await google.colab.kernel.invokeFunction('convertToInteractive',\n",
              "                                                     [key], {});\n",
              "          if (!dataTable) return;\n",
              "\n",
              "          const docLinkHtml = 'Like what you see? Visit the ' +\n",
              "            '<a target=\"_blank\" href=https://colab.research.google.com/notebooks/data_table.ipynb>data table notebook</a>'\n",
              "            + ' to learn more about interactive tables.';\n",
              "          element.innerHTML = '';\n",
              "          dataTable['output_type'] = 'display_data';\n",
              "          await google.colab.output.renderOutput(dataTable, element);\n",
              "          const docLink = document.createElement('div');\n",
              "          docLink.innerHTML = docLinkHtml;\n",
              "          element.appendChild(docLink);\n",
              "        }\n",
              "      </script>\n",
              "    </div>\n",
              "  </div>\n",
              "  "
            ]
          },
          "metadata": {},
          "execution_count": 63
        }
      ]
    },
    {
      "cell_type": "code",
      "source": [
        "sub_df.describe()"
      ],
      "metadata": {
        "id": "qZdRr_1sQVZS",
        "outputId": "3e83e3be-8ee3-4856-fa3e-d80f373fc675",
        "colab": {
          "base_uri": "https://localhost:8080/",
          "height": 300
        }
      },
      "id": "qZdRr_1sQVZS",
      "execution_count": 64,
      "outputs": [
        {
          "output_type": "execute_result",
          "data": {
            "text/plain": [
              "             pm2_5\n",
              "count  4254.000000\n",
              "mean    162.920564\n",
              "std      37.765807\n",
              "min      84.143463\n",
              "25%     132.174767\n",
              "50%     160.945968\n",
              "75%     188.564449\n",
              "max     299.628786"
            ],
            "text/html": [
              "\n",
              "  <div id=\"df-3265b8c0-8984-4cfd-9832-0b6ca310297c\">\n",
              "    <div class=\"colab-df-container\">\n",
              "      <div>\n",
              "<style scoped>\n",
              "    .dataframe tbody tr th:only-of-type {\n",
              "        vertical-align: middle;\n",
              "    }\n",
              "\n",
              "    .dataframe tbody tr th {\n",
              "        vertical-align: top;\n",
              "    }\n",
              "\n",
              "    .dataframe thead th {\n",
              "        text-align: right;\n",
              "    }\n",
              "</style>\n",
              "<table border=\"1\" class=\"dataframe\">\n",
              "  <thead>\n",
              "    <tr style=\"text-align: right;\">\n",
              "      <th></th>\n",
              "      <th>pm2_5</th>\n",
              "    </tr>\n",
              "  </thead>\n",
              "  <tbody>\n",
              "    <tr>\n",
              "      <th>count</th>\n",
              "      <td>4254.000000</td>\n",
              "    </tr>\n",
              "    <tr>\n",
              "      <th>mean</th>\n",
              "      <td>162.920564</td>\n",
              "    </tr>\n",
              "    <tr>\n",
              "      <th>std</th>\n",
              "      <td>37.765807</td>\n",
              "    </tr>\n",
              "    <tr>\n",
              "      <th>min</th>\n",
              "      <td>84.143463</td>\n",
              "    </tr>\n",
              "    <tr>\n",
              "      <th>25%</th>\n",
              "      <td>132.174767</td>\n",
              "    </tr>\n",
              "    <tr>\n",
              "      <th>50%</th>\n",
              "      <td>160.945968</td>\n",
              "    </tr>\n",
              "    <tr>\n",
              "      <th>75%</th>\n",
              "      <td>188.564449</td>\n",
              "    </tr>\n",
              "    <tr>\n",
              "      <th>max</th>\n",
              "      <td>299.628786</td>\n",
              "    </tr>\n",
              "  </tbody>\n",
              "</table>\n",
              "</div>\n",
              "      <button class=\"colab-df-convert\" onclick=\"convertToInteractive('df-3265b8c0-8984-4cfd-9832-0b6ca310297c')\"\n",
              "              title=\"Convert this dataframe to an interactive table.\"\n",
              "              style=\"display:none;\">\n",
              "        \n",
              "  <svg xmlns=\"http://www.w3.org/2000/svg\" height=\"24px\"viewBox=\"0 0 24 24\"\n",
              "       width=\"24px\">\n",
              "    <path d=\"M0 0h24v24H0V0z\" fill=\"none\"/>\n",
              "    <path d=\"M18.56 5.44l.94 2.06.94-2.06 2.06-.94-2.06-.94-.94-2.06-.94 2.06-2.06.94zm-11 1L8.5 8.5l.94-2.06 2.06-.94-2.06-.94L8.5 2.5l-.94 2.06-2.06.94zm10 10l.94 2.06.94-2.06 2.06-.94-2.06-.94-.94-2.06-.94 2.06-2.06.94z\"/><path d=\"M17.41 7.96l-1.37-1.37c-.4-.4-.92-.59-1.43-.59-.52 0-1.04.2-1.43.59L10.3 9.45l-7.72 7.72c-.78.78-.78 2.05 0 2.83L4 21.41c.39.39.9.59 1.41.59.51 0 1.02-.2 1.41-.59l7.78-7.78 2.81-2.81c.8-.78.8-2.07 0-2.86zM5.41 20L4 18.59l7.72-7.72 1.47 1.35L5.41 20z\"/>\n",
              "  </svg>\n",
              "      </button>\n",
              "      \n",
              "  <style>\n",
              "    .colab-df-container {\n",
              "      display:flex;\n",
              "      flex-wrap:wrap;\n",
              "      gap: 12px;\n",
              "    }\n",
              "\n",
              "    .colab-df-convert {\n",
              "      background-color: #E8F0FE;\n",
              "      border: none;\n",
              "      border-radius: 50%;\n",
              "      cursor: pointer;\n",
              "      display: none;\n",
              "      fill: #1967D2;\n",
              "      height: 32px;\n",
              "      padding: 0 0 0 0;\n",
              "      width: 32px;\n",
              "    }\n",
              "\n",
              "    .colab-df-convert:hover {\n",
              "      background-color: #E2EBFA;\n",
              "      box-shadow: 0px 1px 2px rgba(60, 64, 67, 0.3), 0px 1px 3px 1px rgba(60, 64, 67, 0.15);\n",
              "      fill: #174EA6;\n",
              "    }\n",
              "\n",
              "    [theme=dark] .colab-df-convert {\n",
              "      background-color: #3B4455;\n",
              "      fill: #D2E3FC;\n",
              "    }\n",
              "\n",
              "    [theme=dark] .colab-df-convert:hover {\n",
              "      background-color: #434B5C;\n",
              "      box-shadow: 0px 1px 3px 1px rgba(0, 0, 0, 0.15);\n",
              "      filter: drop-shadow(0px 1px 2px rgba(0, 0, 0, 0.3));\n",
              "      fill: #FFFFFF;\n",
              "    }\n",
              "  </style>\n",
              "\n",
              "      <script>\n",
              "        const buttonEl =\n",
              "          document.querySelector('#df-3265b8c0-8984-4cfd-9832-0b6ca310297c button.colab-df-convert');\n",
              "        buttonEl.style.display =\n",
              "          google.colab.kernel.accessAllowed ? 'block' : 'none';\n",
              "\n",
              "        async function convertToInteractive(key) {\n",
              "          const element = document.querySelector('#df-3265b8c0-8984-4cfd-9832-0b6ca310297c');\n",
              "          const dataTable =\n",
              "            await google.colab.kernel.invokeFunction('convertToInteractive',\n",
              "                                                     [key], {});\n",
              "          if (!dataTable) return;\n",
              "\n",
              "          const docLinkHtml = 'Like what you see? Visit the ' +\n",
              "            '<a target=\"_blank\" href=https://colab.research.google.com/notebooks/data_table.ipynb>data table notebook</a>'\n",
              "            + ' to learn more about interactive tables.';\n",
              "          element.innerHTML = '';\n",
              "          dataTable['output_type'] = 'display_data';\n",
              "          await google.colab.output.renderOutput(dataTable, element);\n",
              "          const docLink = document.createElement('div');\n",
              "          docLink.innerHTML = docLinkHtml;\n",
              "          element.appendChild(docLink);\n",
              "        }\n",
              "      </script>\n",
              "    </div>\n",
              "  </div>\n",
              "  "
            ]
          },
          "metadata": {},
          "execution_count": 64
        }
      ]
    },
    {
      "cell_type": "code",
      "source": [
        ""
      ],
      "metadata": {
        "id": "angJdfWxZ423"
      },
      "id": "angJdfWxZ423",
      "execution_count": null,
      "outputs": []
    }
  ],
  "metadata": {
    "colab": {
      "collapsed_sections": [],
      "name": "starter.ipynb",
      "provenance": []
    },
    "kernelspec": {
      "display_name": "Python 3 (ipykernel)",
      "language": "python",
      "name": "python3"
    },
    "language_info": {
      "codemirror_mode": {
        "name": "ipython",
        "version": 3
      },
      "file_extension": ".py",
      "mimetype": "text/x-python",
      "name": "python",
      "nbconvert_exporter": "python",
      "pygments_lexer": "ipython3",
      "version": "3.8.13"
    },
    "widgets": {
      "application/vnd.jupyter.widget-state+json": {
        "2c6760edb891403dbe5cee86dcd70ab9": {
          "model_module": "@jupyter-widgets/output",
          "model_name": "OutputModel",
          "model_module_version": "1.0.0",
          "state": {
            "_dom_classes": [],
            "_model_module": "@jupyter-widgets/output",
            "_model_module_version": "1.0.0",
            "_model_name": "OutputModel",
            "_view_count": null,
            "_view_module": "@jupyter-widgets/output",
            "_view_module_version": "1.0.0",
            "_view_name": "OutputView",
            "layout": "IPY_MODEL_df642eb516ed4f55927b52192b8e4ef5",
            "msg_id": "",
            "outputs": [
              {
                "output_type": "display_data",
                "data": {
                  "text/plain": "\u001b[32m⠴\u001b[0m  test                 \u001b[38;2;33;33;34m━\u001b[0m\u001b[38;2;15;15;16m━\u001b[0m\u001b[38;2;3;3;4m━\u001b[0m\u001b[38;2;0;0;0m━\u001b[0m\u001b[38;2;3;3;4m━\u001b[0m\u001b[38;2;15;15;16m━\u001b[0m\u001b[38;2;33;33;34m━\u001b[0m\u001b[38;2;55;55;58m━\u001b[0m\u001b[38;2;80;80;84m━\u001b[0m\u001b[38;2;105;105;110m━\u001b[0m \u001b[38;2;155;155;159mDOWNLOADING\u001b[0m \u001b[39m[\u001b[0m\u001b[38;2;155;155;159m-:--:--\u001b[0m\u001b[39m]\u001b[0m \n",
                  "text/html": "<pre style=\"white-space:pre;overflow-x:auto;line-height:normal;font-family:Menlo,'DejaVu Sans Mono',consolas,'Courier New',monospace\"><span style=\"color: #008000; text-decoration-color: #008000\">⠴</span>  test                 <span style=\"color: #212122; text-decoration-color: #212122\">━</span><span style=\"color: #0f0f10; text-decoration-color: #0f0f10\">━</span><span style=\"color: #030304; text-decoration-color: #030304\">━</span><span style=\"color: #000000; text-decoration-color: #000000\">━</span><span style=\"color: #030304; text-decoration-color: #030304\">━</span><span style=\"color: #0f0f10; text-decoration-color: #0f0f10\">━</span><span style=\"color: #212122; text-decoration-color: #212122\">━</span><span style=\"color: #37373a; text-decoration-color: #37373a\">━</span><span style=\"color: #505054; text-decoration-color: #505054\">━</span><span style=\"color: #69696e; text-decoration-color: #69696e\">━</span> <span style=\"color: #9b9b9f; text-decoration-color: #9b9b9f\">DOWNLOADING</span> <span style=\"color: #000000; text-decoration-color: #000000\">[</span><span style=\"color: #9b9b9f; text-decoration-color: #9b9b9f\">-:--:--</span><span style=\"color: #000000; text-decoration-color: #000000\">]</span> \n</pre>\n"
                },
                "metadata": {}
              }
            ]
          }
        },
        "df642eb516ed4f55927b52192b8e4ef5": {
          "model_module": "@jupyter-widgets/base",
          "model_name": "LayoutModel",
          "model_module_version": "1.2.0",
          "state": {
            "_model_module": "@jupyter-widgets/base",
            "_model_module_version": "1.2.0",
            "_model_name": "LayoutModel",
            "_view_count": null,
            "_view_module": "@jupyter-widgets/base",
            "_view_module_version": "1.2.0",
            "_view_name": "LayoutView",
            "align_content": null,
            "align_items": null,
            "align_self": null,
            "border": null,
            "bottom": null,
            "display": null,
            "flex": null,
            "flex_flow": null,
            "grid_area": null,
            "grid_auto_columns": null,
            "grid_auto_flow": null,
            "grid_auto_rows": null,
            "grid_column": null,
            "grid_gap": null,
            "grid_row": null,
            "grid_template_areas": null,
            "grid_template_columns": null,
            "grid_template_rows": null,
            "height": null,
            "justify_content": null,
            "justify_items": null,
            "left": null,
            "margin": null,
            "max_height": null,
            "max_width": null,
            "min_height": null,
            "min_width": null,
            "object_fit": null,
            "object_position": null,
            "order": null,
            "overflow": null,
            "overflow_x": null,
            "overflow_y": null,
            "padding": null,
            "right": null,
            "top": null,
            "visibility": null,
            "width": null
          }
        },
        "9ba1fa73e3134c38ae4d32400cc72f54": {
          "model_module": "@jupyter-widgets/output",
          "model_name": "OutputModel",
          "model_module_version": "1.0.0",
          "state": {
            "_dom_classes": [],
            "_model_module": "@jupyter-widgets/output",
            "_model_module_version": "1.0.0",
            "_model_name": "OutputModel",
            "_view_count": null,
            "_view_module": "@jupyter-widgets/output",
            "_view_module_version": "1.0.0",
            "_view_name": "OutputView",
            "layout": "IPY_MODEL_b0a0993f4e6d4474a7fb71788a1ddd22",
            "msg_id": "",
            "outputs": [
              {
                "output_type": "display_data",
                "data": {
                  "text/plain": "\u001b[32m⠴\u001b[0m  train                \u001b[38;2;145;145;152m━\u001b[0m\u001b[38;2;157;157;164m━\u001b[0m\u001b[38;2;161;161;169m━\u001b[0m\u001b[38;2;157;157;164m━\u001b[0m\u001b[38;2;145;145;152m━\u001b[0m\u001b[38;2;127;127;134m━\u001b[0m\u001b[38;2;105;105;110m━\u001b[0m\u001b[38;2;80;80;84m━\u001b[0m\u001b[38;2;55;55;58m━\u001b[0m\u001b[38;2;33;33;34m━\u001b[0m \u001b[38;2;155;155;159mDOWNLOADING\u001b[0m \u001b[39m[\u001b[0m\u001b[38;2;155;155;159m-:--:--\u001b[0m\u001b[39m]\u001b[0m \n",
                  "text/html": "<pre style=\"white-space:pre;overflow-x:auto;line-height:normal;font-family:Menlo,'DejaVu Sans Mono',consolas,'Courier New',monospace\"><span style=\"color: #008000; text-decoration-color: #008000\">⠴</span>  train                <span style=\"color: #919198; text-decoration-color: #919198\">━</span><span style=\"color: #9d9da4; text-decoration-color: #9d9da4\">━</span><span style=\"color: #a1a1a9; text-decoration-color: #a1a1a9\">━</span><span style=\"color: #9d9da4; text-decoration-color: #9d9da4\">━</span><span style=\"color: #919198; text-decoration-color: #919198\">━</span><span style=\"color: #7f7f86; text-decoration-color: #7f7f86\">━</span><span style=\"color: #69696e; text-decoration-color: #69696e\">━</span><span style=\"color: #505054; text-decoration-color: #505054\">━</span><span style=\"color: #37373a; text-decoration-color: #37373a\">━</span><span style=\"color: #212122; text-decoration-color: #212122\">━</span> <span style=\"color: #9b9b9f; text-decoration-color: #9b9b9f\">DOWNLOADING</span> <span style=\"color: #000000; text-decoration-color: #000000\">[</span><span style=\"color: #9b9b9f; text-decoration-color: #9b9b9f\">-:--:--</span><span style=\"color: #000000; text-decoration-color: #000000\">]</span> \n</pre>\n"
                },
                "metadata": {}
              }
            ]
          }
        },
        "b0a0993f4e6d4474a7fb71788a1ddd22": {
          "model_module": "@jupyter-widgets/base",
          "model_name": "LayoutModel",
          "model_module_version": "1.2.0",
          "state": {
            "_model_module": "@jupyter-widgets/base",
            "_model_module_version": "1.2.0",
            "_model_name": "LayoutModel",
            "_view_count": null,
            "_view_module": "@jupyter-widgets/base",
            "_view_module_version": "1.2.0",
            "_view_name": "LayoutView",
            "align_content": null,
            "align_items": null,
            "align_self": null,
            "border": null,
            "bottom": null,
            "display": null,
            "flex": null,
            "flex_flow": null,
            "grid_area": null,
            "grid_auto_columns": null,
            "grid_auto_flow": null,
            "grid_auto_rows": null,
            "grid_column": null,
            "grid_gap": null,
            "grid_row": null,
            "grid_template_areas": null,
            "grid_template_columns": null,
            "grid_template_rows": null,
            "height": null,
            "justify_content": null,
            "justify_items": null,
            "left": null,
            "margin": null,
            "max_height": null,
            "max_width": null,
            "min_height": null,
            "min_width": null,
            "object_fit": null,
            "object_position": null,
            "order": null,
            "overflow": null,
            "overflow_x": null,
            "overflow_y": null,
            "padding": null,
            "right": null,
            "top": null,
            "visibility": null,
            "width": null
          }
        },
        "3e4391b453184ca8963e910be7c6e08b": {
          "model_module": "@jupyter-widgets/controls",
          "model_name": "HBoxModel",
          "model_module_version": "1.5.0",
          "state": {
            "_dom_classes": [],
            "_model_module": "@jupyter-widgets/controls",
            "_model_module_version": "1.5.0",
            "_model_name": "HBoxModel",
            "_view_count": null,
            "_view_module": "@jupyter-widgets/controls",
            "_view_module_version": "1.5.0",
            "_view_name": "HBoxView",
            "box_style": "",
            "children": [
              "IPY_MODEL_e35ab981982c4ac89764816d8a3160a9",
              "IPY_MODEL_f9b6914fbde74c8aa3a5075cd4774c95",
              "IPY_MODEL_67288c8fe0f44ff6a14ff4c0e0da7415"
            ],
            "layout": "IPY_MODEL_cb0afdd3dc064081932c7534f02182d1"
          }
        },
        "e35ab981982c4ac89764816d8a3160a9": {
          "model_module": "@jupyter-widgets/controls",
          "model_name": "HTMLModel",
          "model_module_version": "1.5.0",
          "state": {
            "_dom_classes": [],
            "_model_module": "@jupyter-widgets/controls",
            "_model_module_version": "1.5.0",
            "_model_name": "HTMLModel",
            "_view_count": null,
            "_view_module": "@jupyter-widgets/controls",
            "_view_module_version": "1.5.0",
            "_view_name": "HTMLView",
            "description": "",
            "description_tooltip": null,
            "layout": "IPY_MODEL_2bf9742a76e64408b91a27db66f3d99c",
            "placeholder": "​",
            "style": "IPY_MODEL_224763ba2eea4e4490f00718476010bd",
            "value": "100%"
          }
        },
        "f9b6914fbde74c8aa3a5075cd4774c95": {
          "model_module": "@jupyter-widgets/controls",
          "model_name": "FloatProgressModel",
          "model_module_version": "1.5.0",
          "state": {
            "_dom_classes": [],
            "_model_module": "@jupyter-widgets/controls",
            "_model_module_version": "1.5.0",
            "_model_name": "FloatProgressModel",
            "_view_count": null,
            "_view_module": "@jupyter-widgets/controls",
            "_view_module_version": "1.5.0",
            "_view_name": "ProgressView",
            "bar_style": "success",
            "description": "",
            "description_tooltip": null,
            "layout": "IPY_MODEL_8e90d54932db431c8dd89abb55522793",
            "max": 44,
            "min": 0,
            "orientation": "horizontal",
            "style": "IPY_MODEL_489e5090c77941a2a5c524b6c9adc8b8",
            "value": 44
          }
        },
        "67288c8fe0f44ff6a14ff4c0e0da7415": {
          "model_module": "@jupyter-widgets/controls",
          "model_name": "HTMLModel",
          "model_module_version": "1.5.0",
          "state": {
            "_dom_classes": [],
            "_model_module": "@jupyter-widgets/controls",
            "_model_module_version": "1.5.0",
            "_model_name": "HTMLModel",
            "_view_count": null,
            "_view_module": "@jupyter-widgets/controls",
            "_view_module_version": "1.5.0",
            "_view_name": "HTMLView",
            "description": "",
            "description_tooltip": null,
            "layout": "IPY_MODEL_56bbbeb0a703452e9ac291c11ab50faf",
            "placeholder": "​",
            "style": "IPY_MODEL_ae76ed7c7e6346e98277985c53b96194",
            "value": " 44/44 [00:11&lt;00:00,  3.53it/s]"
          }
        },
        "cb0afdd3dc064081932c7534f02182d1": {
          "model_module": "@jupyter-widgets/base",
          "model_name": "LayoutModel",
          "model_module_version": "1.2.0",
          "state": {
            "_model_module": "@jupyter-widgets/base",
            "_model_module_version": "1.2.0",
            "_model_name": "LayoutModel",
            "_view_count": null,
            "_view_module": "@jupyter-widgets/base",
            "_view_module_version": "1.2.0",
            "_view_name": "LayoutView",
            "align_content": null,
            "align_items": null,
            "align_self": null,
            "border": null,
            "bottom": null,
            "display": null,
            "flex": null,
            "flex_flow": null,
            "grid_area": null,
            "grid_auto_columns": null,
            "grid_auto_flow": null,
            "grid_auto_rows": null,
            "grid_column": null,
            "grid_gap": null,
            "grid_row": null,
            "grid_template_areas": null,
            "grid_template_columns": null,
            "grid_template_rows": null,
            "height": null,
            "justify_content": null,
            "justify_items": null,
            "left": null,
            "margin": null,
            "max_height": null,
            "max_width": null,
            "min_height": null,
            "min_width": null,
            "object_fit": null,
            "object_position": null,
            "order": null,
            "overflow": null,
            "overflow_x": null,
            "overflow_y": null,
            "padding": null,
            "right": null,
            "top": null,
            "visibility": null,
            "width": null
          }
        },
        "2bf9742a76e64408b91a27db66f3d99c": {
          "model_module": "@jupyter-widgets/base",
          "model_name": "LayoutModel",
          "model_module_version": "1.2.0",
          "state": {
            "_model_module": "@jupyter-widgets/base",
            "_model_module_version": "1.2.0",
            "_model_name": "LayoutModel",
            "_view_count": null,
            "_view_module": "@jupyter-widgets/base",
            "_view_module_version": "1.2.0",
            "_view_name": "LayoutView",
            "align_content": null,
            "align_items": null,
            "align_self": null,
            "border": null,
            "bottom": null,
            "display": null,
            "flex": null,
            "flex_flow": null,
            "grid_area": null,
            "grid_auto_columns": null,
            "grid_auto_flow": null,
            "grid_auto_rows": null,
            "grid_column": null,
            "grid_gap": null,
            "grid_row": null,
            "grid_template_areas": null,
            "grid_template_columns": null,
            "grid_template_rows": null,
            "height": null,
            "justify_content": null,
            "justify_items": null,
            "left": null,
            "margin": null,
            "max_height": null,
            "max_width": null,
            "min_height": null,
            "min_width": null,
            "object_fit": null,
            "object_position": null,
            "order": null,
            "overflow": null,
            "overflow_x": null,
            "overflow_y": null,
            "padding": null,
            "right": null,
            "top": null,
            "visibility": null,
            "width": null
          }
        },
        "224763ba2eea4e4490f00718476010bd": {
          "model_module": "@jupyter-widgets/controls",
          "model_name": "DescriptionStyleModel",
          "model_module_version": "1.5.0",
          "state": {
            "_model_module": "@jupyter-widgets/controls",
            "_model_module_version": "1.5.0",
            "_model_name": "DescriptionStyleModel",
            "_view_count": null,
            "_view_module": "@jupyter-widgets/base",
            "_view_module_version": "1.2.0",
            "_view_name": "StyleView",
            "description_width": ""
          }
        },
        "8e90d54932db431c8dd89abb55522793": {
          "model_module": "@jupyter-widgets/base",
          "model_name": "LayoutModel",
          "model_module_version": "1.2.0",
          "state": {
            "_model_module": "@jupyter-widgets/base",
            "_model_module_version": "1.2.0",
            "_model_name": "LayoutModel",
            "_view_count": null,
            "_view_module": "@jupyter-widgets/base",
            "_view_module_version": "1.2.0",
            "_view_name": "LayoutView",
            "align_content": null,
            "align_items": null,
            "align_self": null,
            "border": null,
            "bottom": null,
            "display": null,
            "flex": null,
            "flex_flow": null,
            "grid_area": null,
            "grid_auto_columns": null,
            "grid_auto_flow": null,
            "grid_auto_rows": null,
            "grid_column": null,
            "grid_gap": null,
            "grid_row": null,
            "grid_template_areas": null,
            "grid_template_columns": null,
            "grid_template_rows": null,
            "height": null,
            "justify_content": null,
            "justify_items": null,
            "left": null,
            "margin": null,
            "max_height": null,
            "max_width": null,
            "min_height": null,
            "min_width": null,
            "object_fit": null,
            "object_position": null,
            "order": null,
            "overflow": null,
            "overflow_x": null,
            "overflow_y": null,
            "padding": null,
            "right": null,
            "top": null,
            "visibility": null,
            "width": null
          }
        },
        "489e5090c77941a2a5c524b6c9adc8b8": {
          "model_module": "@jupyter-widgets/controls",
          "model_name": "ProgressStyleModel",
          "model_module_version": "1.5.0",
          "state": {
            "_model_module": "@jupyter-widgets/controls",
            "_model_module_version": "1.5.0",
            "_model_name": "ProgressStyleModel",
            "_view_count": null,
            "_view_module": "@jupyter-widgets/base",
            "_view_module_version": "1.2.0",
            "_view_name": "StyleView",
            "bar_color": null,
            "description_width": ""
          }
        },
        "56bbbeb0a703452e9ac291c11ab50faf": {
          "model_module": "@jupyter-widgets/base",
          "model_name": "LayoutModel",
          "model_module_version": "1.2.0",
          "state": {
            "_model_module": "@jupyter-widgets/base",
            "_model_module_version": "1.2.0",
            "_model_name": "LayoutModel",
            "_view_count": null,
            "_view_module": "@jupyter-widgets/base",
            "_view_module_version": "1.2.0",
            "_view_name": "LayoutView",
            "align_content": null,
            "align_items": null,
            "align_self": null,
            "border": null,
            "bottom": null,
            "display": null,
            "flex": null,
            "flex_flow": null,
            "grid_area": null,
            "grid_auto_columns": null,
            "grid_auto_flow": null,
            "grid_auto_rows": null,
            "grid_column": null,
            "grid_gap": null,
            "grid_row": null,
            "grid_template_areas": null,
            "grid_template_columns": null,
            "grid_template_rows": null,
            "height": null,
            "justify_content": null,
            "justify_items": null,
            "left": null,
            "margin": null,
            "max_height": null,
            "max_width": null,
            "min_height": null,
            "min_width": null,
            "object_fit": null,
            "object_position": null,
            "order": null,
            "overflow": null,
            "overflow_x": null,
            "overflow_y": null,
            "padding": null,
            "right": null,
            "top": null,
            "visibility": null,
            "width": null
          }
        },
        "ae76ed7c7e6346e98277985c53b96194": {
          "model_module": "@jupyter-widgets/controls",
          "model_name": "DescriptionStyleModel",
          "model_module_version": "1.5.0",
          "state": {
            "_model_module": "@jupyter-widgets/controls",
            "_model_module_version": "1.5.0",
            "_model_name": "DescriptionStyleModel",
            "_view_count": null,
            "_view_module": "@jupyter-widgets/base",
            "_view_module_version": "1.2.0",
            "_view_name": "StyleView",
            "description_width": ""
          }
        },
        "5a44eecab4344a90b6e5884dec5074f7": {
          "model_module": "@jupyter-widgets/controls",
          "model_name": "HBoxModel",
          "model_module_version": "1.5.0",
          "state": {
            "_dom_classes": [],
            "_model_module": "@jupyter-widgets/controls",
            "_model_module_version": "1.5.0",
            "_model_name": "HBoxModel",
            "_view_count": null,
            "_view_module": "@jupyter-widgets/controls",
            "_view_module_version": "1.5.0",
            "_view_name": "HBoxView",
            "box_style": "",
            "children": [
              "IPY_MODEL_b9b0feb55b9d466cb5f990e1e03432c7",
              "IPY_MODEL_b2eee7d495cb4e68bb566cc045177d30",
              "IPY_MODEL_173ad9c53c404e978298f849e01a3c28"
            ],
            "layout": "IPY_MODEL_cf5c3cb942f74e2fb074dbe2b3f51661"
          }
        },
        "b9b0feb55b9d466cb5f990e1e03432c7": {
          "model_module": "@jupyter-widgets/controls",
          "model_name": "HTMLModel",
          "model_module_version": "1.5.0",
          "state": {
            "_dom_classes": [],
            "_model_module": "@jupyter-widgets/controls",
            "_model_module_version": "1.5.0",
            "_model_name": "HTMLModel",
            "_view_count": null,
            "_view_module": "@jupyter-widgets/controls",
            "_view_module_version": "1.5.0",
            "_view_name": "HTMLView",
            "description": "",
            "description_tooltip": null,
            "layout": "IPY_MODEL_c710380f6f144e34be8edb310717b069",
            "placeholder": "​",
            "style": "IPY_MODEL_8127581d790344159539e1a0fd242478",
            "value": "100%"
          }
        },
        "b2eee7d495cb4e68bb566cc045177d30": {
          "model_module": "@jupyter-widgets/controls",
          "model_name": "FloatProgressModel",
          "model_module_version": "1.5.0",
          "state": {
            "_dom_classes": [],
            "_model_module": "@jupyter-widgets/controls",
            "_model_module_version": "1.5.0",
            "_model_name": "FloatProgressModel",
            "_view_count": null,
            "_view_module": "@jupyter-widgets/controls",
            "_view_module_version": "1.5.0",
            "_view_name": "ProgressView",
            "bar_style": "success",
            "description": "",
            "description_tooltip": null,
            "layout": "IPY_MODEL_1076b39f78e04966b1b04c145eaa8614",
            "max": 10,
            "min": 0,
            "orientation": "horizontal",
            "style": "IPY_MODEL_ecc6e716045646e0a551bf7557207a99",
            "value": 10
          }
        },
        "173ad9c53c404e978298f849e01a3c28": {
          "model_module": "@jupyter-widgets/controls",
          "model_name": "HTMLModel",
          "model_module_version": "1.5.0",
          "state": {
            "_dom_classes": [],
            "_model_module": "@jupyter-widgets/controls",
            "_model_module_version": "1.5.0",
            "_model_name": "HTMLModel",
            "_view_count": null,
            "_view_module": "@jupyter-widgets/controls",
            "_view_module_version": "1.5.0",
            "_view_name": "HTMLView",
            "description": "",
            "description_tooltip": null,
            "layout": "IPY_MODEL_f3f2c4b323b34bffaa0bf43c4e2a2843",
            "placeholder": "​",
            "style": "IPY_MODEL_53285d2ddc954425add91f58be44a764",
            "value": " 10/10 [00:04&lt;00:00,  1.50it/s]"
          }
        },
        "cf5c3cb942f74e2fb074dbe2b3f51661": {
          "model_module": "@jupyter-widgets/base",
          "model_name": "LayoutModel",
          "model_module_version": "1.2.0",
          "state": {
            "_model_module": "@jupyter-widgets/base",
            "_model_module_version": "1.2.0",
            "_model_name": "LayoutModel",
            "_view_count": null,
            "_view_module": "@jupyter-widgets/base",
            "_view_module_version": "1.2.0",
            "_view_name": "LayoutView",
            "align_content": null,
            "align_items": null,
            "align_self": null,
            "border": null,
            "bottom": null,
            "display": null,
            "flex": null,
            "flex_flow": null,
            "grid_area": null,
            "grid_auto_columns": null,
            "grid_auto_flow": null,
            "grid_auto_rows": null,
            "grid_column": null,
            "grid_gap": null,
            "grid_row": null,
            "grid_template_areas": null,
            "grid_template_columns": null,
            "grid_template_rows": null,
            "height": null,
            "justify_content": null,
            "justify_items": null,
            "left": null,
            "margin": null,
            "max_height": null,
            "max_width": null,
            "min_height": null,
            "min_width": null,
            "object_fit": null,
            "object_position": null,
            "order": null,
            "overflow": null,
            "overflow_x": null,
            "overflow_y": null,
            "padding": null,
            "right": null,
            "top": null,
            "visibility": null,
            "width": null
          }
        },
        "c710380f6f144e34be8edb310717b069": {
          "model_module": "@jupyter-widgets/base",
          "model_name": "LayoutModel",
          "model_module_version": "1.2.0",
          "state": {
            "_model_module": "@jupyter-widgets/base",
            "_model_module_version": "1.2.0",
            "_model_name": "LayoutModel",
            "_view_count": null,
            "_view_module": "@jupyter-widgets/base",
            "_view_module_version": "1.2.0",
            "_view_name": "LayoutView",
            "align_content": null,
            "align_items": null,
            "align_self": null,
            "border": null,
            "bottom": null,
            "display": null,
            "flex": null,
            "flex_flow": null,
            "grid_area": null,
            "grid_auto_columns": null,
            "grid_auto_flow": null,
            "grid_auto_rows": null,
            "grid_column": null,
            "grid_gap": null,
            "grid_row": null,
            "grid_template_areas": null,
            "grid_template_columns": null,
            "grid_template_rows": null,
            "height": null,
            "justify_content": null,
            "justify_items": null,
            "left": null,
            "margin": null,
            "max_height": null,
            "max_width": null,
            "min_height": null,
            "min_width": null,
            "object_fit": null,
            "object_position": null,
            "order": null,
            "overflow": null,
            "overflow_x": null,
            "overflow_y": null,
            "padding": null,
            "right": null,
            "top": null,
            "visibility": null,
            "width": null
          }
        },
        "8127581d790344159539e1a0fd242478": {
          "model_module": "@jupyter-widgets/controls",
          "model_name": "DescriptionStyleModel",
          "model_module_version": "1.5.0",
          "state": {
            "_model_module": "@jupyter-widgets/controls",
            "_model_module_version": "1.5.0",
            "_model_name": "DescriptionStyleModel",
            "_view_count": null,
            "_view_module": "@jupyter-widgets/base",
            "_view_module_version": "1.2.0",
            "_view_name": "StyleView",
            "description_width": ""
          }
        },
        "1076b39f78e04966b1b04c145eaa8614": {
          "model_module": "@jupyter-widgets/base",
          "model_name": "LayoutModel",
          "model_module_version": "1.2.0",
          "state": {
            "_model_module": "@jupyter-widgets/base",
            "_model_module_version": "1.2.0",
            "_model_name": "LayoutModel",
            "_view_count": null,
            "_view_module": "@jupyter-widgets/base",
            "_view_module_version": "1.2.0",
            "_view_name": "LayoutView",
            "align_content": null,
            "align_items": null,
            "align_self": null,
            "border": null,
            "bottom": null,
            "display": null,
            "flex": null,
            "flex_flow": null,
            "grid_area": null,
            "grid_auto_columns": null,
            "grid_auto_flow": null,
            "grid_auto_rows": null,
            "grid_column": null,
            "grid_gap": null,
            "grid_row": null,
            "grid_template_areas": null,
            "grid_template_columns": null,
            "grid_template_rows": null,
            "height": null,
            "justify_content": null,
            "justify_items": null,
            "left": null,
            "margin": null,
            "max_height": null,
            "max_width": null,
            "min_height": null,
            "min_width": null,
            "object_fit": null,
            "object_position": null,
            "order": null,
            "overflow": null,
            "overflow_x": null,
            "overflow_y": null,
            "padding": null,
            "right": null,
            "top": null,
            "visibility": null,
            "width": null
          }
        },
        "ecc6e716045646e0a551bf7557207a99": {
          "model_module": "@jupyter-widgets/controls",
          "model_name": "ProgressStyleModel",
          "model_module_version": "1.5.0",
          "state": {
            "_model_module": "@jupyter-widgets/controls",
            "_model_module_version": "1.5.0",
            "_model_name": "ProgressStyleModel",
            "_view_count": null,
            "_view_module": "@jupyter-widgets/base",
            "_view_module_version": "1.2.0",
            "_view_name": "StyleView",
            "bar_color": null,
            "description_width": ""
          }
        },
        "f3f2c4b323b34bffaa0bf43c4e2a2843": {
          "model_module": "@jupyter-widgets/base",
          "model_name": "LayoutModel",
          "model_module_version": "1.2.0",
          "state": {
            "_model_module": "@jupyter-widgets/base",
            "_model_module_version": "1.2.0",
            "_model_name": "LayoutModel",
            "_view_count": null,
            "_view_module": "@jupyter-widgets/base",
            "_view_module_version": "1.2.0",
            "_view_name": "LayoutView",
            "align_content": null,
            "align_items": null,
            "align_self": null,
            "border": null,
            "bottom": null,
            "display": null,
            "flex": null,
            "flex_flow": null,
            "grid_area": null,
            "grid_auto_columns": null,
            "grid_auto_flow": null,
            "grid_auto_rows": null,
            "grid_column": null,
            "grid_gap": null,
            "grid_row": null,
            "grid_template_areas": null,
            "grid_template_columns": null,
            "grid_template_rows": null,
            "height": null,
            "justify_content": null,
            "justify_items": null,
            "left": null,
            "margin": null,
            "max_height": null,
            "max_width": null,
            "min_height": null,
            "min_width": null,
            "object_fit": null,
            "object_position": null,
            "order": null,
            "overflow": null,
            "overflow_x": null,
            "overflow_y": null,
            "padding": null,
            "right": null,
            "top": null,
            "visibility": null,
            "width": null
          }
        },
        "53285d2ddc954425add91f58be44a764": {
          "model_module": "@jupyter-widgets/controls",
          "model_name": "DescriptionStyleModel",
          "model_module_version": "1.5.0",
          "state": {
            "_model_module": "@jupyter-widgets/controls",
            "_model_module_version": "1.5.0",
            "_model_name": "DescriptionStyleModel",
            "_view_count": null,
            "_view_module": "@jupyter-widgets/base",
            "_view_module_version": "1.2.0",
            "_view_name": "StyleView",
            "description_width": ""
          }
        },
        "8762aa30d95442889e7740468c511703": {
          "model_module": "@jupyter-widgets/controls",
          "model_name": "HBoxModel",
          "model_module_version": "1.5.0",
          "state": {
            "_dom_classes": [],
            "_model_module": "@jupyter-widgets/controls",
            "_model_module_version": "1.5.0",
            "_model_name": "HBoxModel",
            "_view_count": null,
            "_view_module": "@jupyter-widgets/controls",
            "_view_module_version": "1.5.0",
            "_view_name": "HBoxView",
            "box_style": "",
            "children": [
              "IPY_MODEL_8cbee52f50484892814ab65a393c43ae",
              "IPY_MODEL_2214db69113e451691a05f0588c9530f",
              "IPY_MODEL_7a74df35671e4bd88c7cb3e72a6d256d"
            ],
            "layout": "IPY_MODEL_70bb3f2b7d0f44239de93ae637ec5064"
          }
        },
        "8cbee52f50484892814ab65a393c43ae": {
          "model_module": "@jupyter-widgets/controls",
          "model_name": "HTMLModel",
          "model_module_version": "1.5.0",
          "state": {
            "_dom_classes": [],
            "_model_module": "@jupyter-widgets/controls",
            "_model_module_version": "1.5.0",
            "_model_name": "HTMLModel",
            "_view_count": null,
            "_view_module": "@jupyter-widgets/controls",
            "_view_module_version": "1.5.0",
            "_view_name": "HTMLView",
            "description": "",
            "description_tooltip": null,
            "layout": "IPY_MODEL_f4d95b4717964c1f95dbd46375289c6f",
            "placeholder": "​",
            "style": "IPY_MODEL_a456c4713af541229eb3d5a2a69be05f",
            "value": "100%"
          }
        },
        "2214db69113e451691a05f0588c9530f": {
          "model_module": "@jupyter-widgets/controls",
          "model_name": "FloatProgressModel",
          "model_module_version": "1.5.0",
          "state": {
            "_dom_classes": [],
            "_model_module": "@jupyter-widgets/controls",
            "_model_module_version": "1.5.0",
            "_model_name": "FloatProgressModel",
            "_view_count": null,
            "_view_module": "@jupyter-widgets/controls",
            "_view_module_version": "1.5.0",
            "_view_name": "ProgressView",
            "bar_style": "success",
            "description": "",
            "description_tooltip": null,
            "layout": "IPY_MODEL_459e2bc7edc747a2abc57e7e605815ae",
            "max": 44,
            "min": 0,
            "orientation": "horizontal",
            "style": "IPY_MODEL_38744fe895174c8ba014a2ecc1a3ebed",
            "value": 44
          }
        },
        "7a74df35671e4bd88c7cb3e72a6d256d": {
          "model_module": "@jupyter-widgets/controls",
          "model_name": "HTMLModel",
          "model_module_version": "1.5.0",
          "state": {
            "_dom_classes": [],
            "_model_module": "@jupyter-widgets/controls",
            "_model_module_version": "1.5.0",
            "_model_name": "HTMLModel",
            "_view_count": null,
            "_view_module": "@jupyter-widgets/controls",
            "_view_module_version": "1.5.0",
            "_view_name": "HTMLView",
            "description": "",
            "description_tooltip": null,
            "layout": "IPY_MODEL_3450d70de9cd4be491cb555a9d7208f2",
            "placeholder": "​",
            "style": "IPY_MODEL_3f6d02325d8344799e71fe4e55a12db5",
            "value": " 44/44 [00:06&lt;00:00,  6.83it/s]"
          }
        },
        "70bb3f2b7d0f44239de93ae637ec5064": {
          "model_module": "@jupyter-widgets/base",
          "model_name": "LayoutModel",
          "model_module_version": "1.2.0",
          "state": {
            "_model_module": "@jupyter-widgets/base",
            "_model_module_version": "1.2.0",
            "_model_name": "LayoutModel",
            "_view_count": null,
            "_view_module": "@jupyter-widgets/base",
            "_view_module_version": "1.2.0",
            "_view_name": "LayoutView",
            "align_content": null,
            "align_items": null,
            "align_self": null,
            "border": null,
            "bottom": null,
            "display": null,
            "flex": null,
            "flex_flow": null,
            "grid_area": null,
            "grid_auto_columns": null,
            "grid_auto_flow": null,
            "grid_auto_rows": null,
            "grid_column": null,
            "grid_gap": null,
            "grid_row": null,
            "grid_template_areas": null,
            "grid_template_columns": null,
            "grid_template_rows": null,
            "height": null,
            "justify_content": null,
            "justify_items": null,
            "left": null,
            "margin": null,
            "max_height": null,
            "max_width": null,
            "min_height": null,
            "min_width": null,
            "object_fit": null,
            "object_position": null,
            "order": null,
            "overflow": null,
            "overflow_x": null,
            "overflow_y": null,
            "padding": null,
            "right": null,
            "top": null,
            "visibility": null,
            "width": null
          }
        },
        "f4d95b4717964c1f95dbd46375289c6f": {
          "model_module": "@jupyter-widgets/base",
          "model_name": "LayoutModel",
          "model_module_version": "1.2.0",
          "state": {
            "_model_module": "@jupyter-widgets/base",
            "_model_module_version": "1.2.0",
            "_model_name": "LayoutModel",
            "_view_count": null,
            "_view_module": "@jupyter-widgets/base",
            "_view_module_version": "1.2.0",
            "_view_name": "LayoutView",
            "align_content": null,
            "align_items": null,
            "align_self": null,
            "border": null,
            "bottom": null,
            "display": null,
            "flex": null,
            "flex_flow": null,
            "grid_area": null,
            "grid_auto_columns": null,
            "grid_auto_flow": null,
            "grid_auto_rows": null,
            "grid_column": null,
            "grid_gap": null,
            "grid_row": null,
            "grid_template_areas": null,
            "grid_template_columns": null,
            "grid_template_rows": null,
            "height": null,
            "justify_content": null,
            "justify_items": null,
            "left": null,
            "margin": null,
            "max_height": null,
            "max_width": null,
            "min_height": null,
            "min_width": null,
            "object_fit": null,
            "object_position": null,
            "order": null,
            "overflow": null,
            "overflow_x": null,
            "overflow_y": null,
            "padding": null,
            "right": null,
            "top": null,
            "visibility": null,
            "width": null
          }
        },
        "a456c4713af541229eb3d5a2a69be05f": {
          "model_module": "@jupyter-widgets/controls",
          "model_name": "DescriptionStyleModel",
          "model_module_version": "1.5.0",
          "state": {
            "_model_module": "@jupyter-widgets/controls",
            "_model_module_version": "1.5.0",
            "_model_name": "DescriptionStyleModel",
            "_view_count": null,
            "_view_module": "@jupyter-widgets/base",
            "_view_module_version": "1.2.0",
            "_view_name": "StyleView",
            "description_width": ""
          }
        },
        "459e2bc7edc747a2abc57e7e605815ae": {
          "model_module": "@jupyter-widgets/base",
          "model_name": "LayoutModel",
          "model_module_version": "1.2.0",
          "state": {
            "_model_module": "@jupyter-widgets/base",
            "_model_module_version": "1.2.0",
            "_model_name": "LayoutModel",
            "_view_count": null,
            "_view_module": "@jupyter-widgets/base",
            "_view_module_version": "1.2.0",
            "_view_name": "LayoutView",
            "align_content": null,
            "align_items": null,
            "align_self": null,
            "border": null,
            "bottom": null,
            "display": null,
            "flex": null,
            "flex_flow": null,
            "grid_area": null,
            "grid_auto_columns": null,
            "grid_auto_flow": null,
            "grid_auto_rows": null,
            "grid_column": null,
            "grid_gap": null,
            "grid_row": null,
            "grid_template_areas": null,
            "grid_template_columns": null,
            "grid_template_rows": null,
            "height": null,
            "justify_content": null,
            "justify_items": null,
            "left": null,
            "margin": null,
            "max_height": null,
            "max_width": null,
            "min_height": null,
            "min_width": null,
            "object_fit": null,
            "object_position": null,
            "order": null,
            "overflow": null,
            "overflow_x": null,
            "overflow_y": null,
            "padding": null,
            "right": null,
            "top": null,
            "visibility": null,
            "width": null
          }
        },
        "38744fe895174c8ba014a2ecc1a3ebed": {
          "model_module": "@jupyter-widgets/controls",
          "model_name": "ProgressStyleModel",
          "model_module_version": "1.5.0",
          "state": {
            "_model_module": "@jupyter-widgets/controls",
            "_model_module_version": "1.5.0",
            "_model_name": "ProgressStyleModel",
            "_view_count": null,
            "_view_module": "@jupyter-widgets/base",
            "_view_module_version": "1.2.0",
            "_view_name": "StyleView",
            "bar_color": null,
            "description_width": ""
          }
        },
        "3450d70de9cd4be491cb555a9d7208f2": {
          "model_module": "@jupyter-widgets/base",
          "model_name": "LayoutModel",
          "model_module_version": "1.2.0",
          "state": {
            "_model_module": "@jupyter-widgets/base",
            "_model_module_version": "1.2.0",
            "_model_name": "LayoutModel",
            "_view_count": null,
            "_view_module": "@jupyter-widgets/base",
            "_view_module_version": "1.2.0",
            "_view_name": "LayoutView",
            "align_content": null,
            "align_items": null,
            "align_self": null,
            "border": null,
            "bottom": null,
            "display": null,
            "flex": null,
            "flex_flow": null,
            "grid_area": null,
            "grid_auto_columns": null,
            "grid_auto_flow": null,
            "grid_auto_rows": null,
            "grid_column": null,
            "grid_gap": null,
            "grid_row": null,
            "grid_template_areas": null,
            "grid_template_columns": null,
            "grid_template_rows": null,
            "height": null,
            "justify_content": null,
            "justify_items": null,
            "left": null,
            "margin": null,
            "max_height": null,
            "max_width": null,
            "min_height": null,
            "min_width": null,
            "object_fit": null,
            "object_position": null,
            "order": null,
            "overflow": null,
            "overflow_x": null,
            "overflow_y": null,
            "padding": null,
            "right": null,
            "top": null,
            "visibility": null,
            "width": null
          }
        },
        "3f6d02325d8344799e71fe4e55a12db5": {
          "model_module": "@jupyter-widgets/controls",
          "model_name": "DescriptionStyleModel",
          "model_module_version": "1.5.0",
          "state": {
            "_model_module": "@jupyter-widgets/controls",
            "_model_module_version": "1.5.0",
            "_model_name": "DescriptionStyleModel",
            "_view_count": null,
            "_view_module": "@jupyter-widgets/base",
            "_view_module_version": "1.2.0",
            "_view_name": "StyleView",
            "description_width": ""
          }
        },
        "9a7770da2bf0442ebc44373ff9556e01": {
          "model_module": "@jupyter-widgets/controls",
          "model_name": "HBoxModel",
          "model_module_version": "1.5.0",
          "state": {
            "_dom_classes": [],
            "_model_module": "@jupyter-widgets/controls",
            "_model_module_version": "1.5.0",
            "_model_name": "HBoxModel",
            "_view_count": null,
            "_view_module": "@jupyter-widgets/controls",
            "_view_module_version": "1.5.0",
            "_view_name": "HBoxView",
            "box_style": "",
            "children": [
              "IPY_MODEL_ed16d6428e074d70b40a9afbf74c5ebb",
              "IPY_MODEL_748555993ff646919a9d8ed81ce16696",
              "IPY_MODEL_9087fc287e8c47f0af8d6446ae6fc1c3"
            ],
            "layout": "IPY_MODEL_251d3a6f2fe34ad595f8f74669aac9c0"
          }
        },
        "ed16d6428e074d70b40a9afbf74c5ebb": {
          "model_module": "@jupyter-widgets/controls",
          "model_name": "HTMLModel",
          "model_module_version": "1.5.0",
          "state": {
            "_dom_classes": [],
            "_model_module": "@jupyter-widgets/controls",
            "_model_module_version": "1.5.0",
            "_model_name": "HTMLModel",
            "_view_count": null,
            "_view_module": "@jupyter-widgets/controls",
            "_view_module_version": "1.5.0",
            "_view_name": "HTMLView",
            "description": "",
            "description_tooltip": null,
            "layout": "IPY_MODEL_6578543a732b4cd1a83614d4d41a0482",
            "placeholder": "​",
            "style": "IPY_MODEL_e5b15ceb22804ed0a2e05cb1f5c66306",
            "value": "100%"
          }
        },
        "748555993ff646919a9d8ed81ce16696": {
          "model_module": "@jupyter-widgets/controls",
          "model_name": "FloatProgressModel",
          "model_module_version": "1.5.0",
          "state": {
            "_dom_classes": [],
            "_model_module": "@jupyter-widgets/controls",
            "_model_module_version": "1.5.0",
            "_model_name": "FloatProgressModel",
            "_view_count": null,
            "_view_module": "@jupyter-widgets/controls",
            "_view_module_version": "1.5.0",
            "_view_name": "ProgressView",
            "bar_style": "success",
            "description": "",
            "description_tooltip": null,
            "layout": "IPY_MODEL_ff9feaf5a9c34180a775c9f80d990878",
            "max": 10,
            "min": 0,
            "orientation": "horizontal",
            "style": "IPY_MODEL_04d8a80374aa4a58bf87fde9aadb0edd",
            "value": 10
          }
        },
        "9087fc287e8c47f0af8d6446ae6fc1c3": {
          "model_module": "@jupyter-widgets/controls",
          "model_name": "HTMLModel",
          "model_module_version": "1.5.0",
          "state": {
            "_dom_classes": [],
            "_model_module": "@jupyter-widgets/controls",
            "_model_module_version": "1.5.0",
            "_model_name": "HTMLModel",
            "_view_count": null,
            "_view_module": "@jupyter-widgets/controls",
            "_view_module_version": "1.5.0",
            "_view_name": "HTMLView",
            "description": "",
            "description_tooltip": null,
            "layout": "IPY_MODEL_71ffa82205d448a0bd170f3fb44f2124",
            "placeholder": "​",
            "style": "IPY_MODEL_d6117dd4f58a49fc98387b4e0c3c8166",
            "value": " 10/10 [00:03&lt;00:00,  2.07it/s]"
          }
        },
        "251d3a6f2fe34ad595f8f74669aac9c0": {
          "model_module": "@jupyter-widgets/base",
          "model_name": "LayoutModel",
          "model_module_version": "1.2.0",
          "state": {
            "_model_module": "@jupyter-widgets/base",
            "_model_module_version": "1.2.0",
            "_model_name": "LayoutModel",
            "_view_count": null,
            "_view_module": "@jupyter-widgets/base",
            "_view_module_version": "1.2.0",
            "_view_name": "LayoutView",
            "align_content": null,
            "align_items": null,
            "align_self": null,
            "border": null,
            "bottom": null,
            "display": null,
            "flex": null,
            "flex_flow": null,
            "grid_area": null,
            "grid_auto_columns": null,
            "grid_auto_flow": null,
            "grid_auto_rows": null,
            "grid_column": null,
            "grid_gap": null,
            "grid_row": null,
            "grid_template_areas": null,
            "grid_template_columns": null,
            "grid_template_rows": null,
            "height": null,
            "justify_content": null,
            "justify_items": null,
            "left": null,
            "margin": null,
            "max_height": null,
            "max_width": null,
            "min_height": null,
            "min_width": null,
            "object_fit": null,
            "object_position": null,
            "order": null,
            "overflow": null,
            "overflow_x": null,
            "overflow_y": null,
            "padding": null,
            "right": null,
            "top": null,
            "visibility": null,
            "width": null
          }
        },
        "6578543a732b4cd1a83614d4d41a0482": {
          "model_module": "@jupyter-widgets/base",
          "model_name": "LayoutModel",
          "model_module_version": "1.2.0",
          "state": {
            "_model_module": "@jupyter-widgets/base",
            "_model_module_version": "1.2.0",
            "_model_name": "LayoutModel",
            "_view_count": null,
            "_view_module": "@jupyter-widgets/base",
            "_view_module_version": "1.2.0",
            "_view_name": "LayoutView",
            "align_content": null,
            "align_items": null,
            "align_self": null,
            "border": null,
            "bottom": null,
            "display": null,
            "flex": null,
            "flex_flow": null,
            "grid_area": null,
            "grid_auto_columns": null,
            "grid_auto_flow": null,
            "grid_auto_rows": null,
            "grid_column": null,
            "grid_gap": null,
            "grid_row": null,
            "grid_template_areas": null,
            "grid_template_columns": null,
            "grid_template_rows": null,
            "height": null,
            "justify_content": null,
            "justify_items": null,
            "left": null,
            "margin": null,
            "max_height": null,
            "max_width": null,
            "min_height": null,
            "min_width": null,
            "object_fit": null,
            "object_position": null,
            "order": null,
            "overflow": null,
            "overflow_x": null,
            "overflow_y": null,
            "padding": null,
            "right": null,
            "top": null,
            "visibility": null,
            "width": null
          }
        },
        "e5b15ceb22804ed0a2e05cb1f5c66306": {
          "model_module": "@jupyter-widgets/controls",
          "model_name": "DescriptionStyleModel",
          "model_module_version": "1.5.0",
          "state": {
            "_model_module": "@jupyter-widgets/controls",
            "_model_module_version": "1.5.0",
            "_model_name": "DescriptionStyleModel",
            "_view_count": null,
            "_view_module": "@jupyter-widgets/base",
            "_view_module_version": "1.2.0",
            "_view_name": "StyleView",
            "description_width": ""
          }
        },
        "ff9feaf5a9c34180a775c9f80d990878": {
          "model_module": "@jupyter-widgets/base",
          "model_name": "LayoutModel",
          "model_module_version": "1.2.0",
          "state": {
            "_model_module": "@jupyter-widgets/base",
            "_model_module_version": "1.2.0",
            "_model_name": "LayoutModel",
            "_view_count": null,
            "_view_module": "@jupyter-widgets/base",
            "_view_module_version": "1.2.0",
            "_view_name": "LayoutView",
            "align_content": null,
            "align_items": null,
            "align_self": null,
            "border": null,
            "bottom": null,
            "display": null,
            "flex": null,
            "flex_flow": null,
            "grid_area": null,
            "grid_auto_columns": null,
            "grid_auto_flow": null,
            "grid_auto_rows": null,
            "grid_column": null,
            "grid_gap": null,
            "grid_row": null,
            "grid_template_areas": null,
            "grid_template_columns": null,
            "grid_template_rows": null,
            "height": null,
            "justify_content": null,
            "justify_items": null,
            "left": null,
            "margin": null,
            "max_height": null,
            "max_width": null,
            "min_height": null,
            "min_width": null,
            "object_fit": null,
            "object_position": null,
            "order": null,
            "overflow": null,
            "overflow_x": null,
            "overflow_y": null,
            "padding": null,
            "right": null,
            "top": null,
            "visibility": null,
            "width": null
          }
        },
        "04d8a80374aa4a58bf87fde9aadb0edd": {
          "model_module": "@jupyter-widgets/controls",
          "model_name": "ProgressStyleModel",
          "model_module_version": "1.5.0",
          "state": {
            "_model_module": "@jupyter-widgets/controls",
            "_model_module_version": "1.5.0",
            "_model_name": "ProgressStyleModel",
            "_view_count": null,
            "_view_module": "@jupyter-widgets/base",
            "_view_module_version": "1.2.0",
            "_view_name": "StyleView",
            "bar_color": null,
            "description_width": ""
          }
        },
        "71ffa82205d448a0bd170f3fb44f2124": {
          "model_module": "@jupyter-widgets/base",
          "model_name": "LayoutModel",
          "model_module_version": "1.2.0",
          "state": {
            "_model_module": "@jupyter-widgets/base",
            "_model_module_version": "1.2.0",
            "_model_name": "LayoutModel",
            "_view_count": null,
            "_view_module": "@jupyter-widgets/base",
            "_view_module_version": "1.2.0",
            "_view_name": "LayoutView",
            "align_content": null,
            "align_items": null,
            "align_self": null,
            "border": null,
            "bottom": null,
            "display": null,
            "flex": null,
            "flex_flow": null,
            "grid_area": null,
            "grid_auto_columns": null,
            "grid_auto_flow": null,
            "grid_auto_rows": null,
            "grid_column": null,
            "grid_gap": null,
            "grid_row": null,
            "grid_template_areas": null,
            "grid_template_columns": null,
            "grid_template_rows": null,
            "height": null,
            "justify_content": null,
            "justify_items": null,
            "left": null,
            "margin": null,
            "max_height": null,
            "max_width": null,
            "min_height": null,
            "min_width": null,
            "object_fit": null,
            "object_position": null,
            "order": null,
            "overflow": null,
            "overflow_x": null,
            "overflow_y": null,
            "padding": null,
            "right": null,
            "top": null,
            "visibility": null,
            "width": null
          }
        },
        "d6117dd4f58a49fc98387b4e0c3c8166": {
          "model_module": "@jupyter-widgets/controls",
          "model_name": "DescriptionStyleModel",
          "model_module_version": "1.5.0",
          "state": {
            "_model_module": "@jupyter-widgets/controls",
            "_model_module_version": "1.5.0",
            "_model_name": "DescriptionStyleModel",
            "_view_count": null,
            "_view_module": "@jupyter-widgets/base",
            "_view_module_version": "1.2.0",
            "_view_name": "StyleView",
            "description_width": ""
          }
        },
        "d8e991667aa94abb943448c53ade3fe3": {
          "model_module": "@jupyter-widgets/output",
          "model_name": "OutputModel",
          "model_module_version": "1.0.0",
          "state": {
            "_dom_classes": [],
            "_model_module": "@jupyter-widgets/output",
            "_model_module_version": "1.0.0",
            "_model_name": "OutputModel",
            "_view_count": null,
            "_view_module": "@jupyter-widgets/output",
            "_view_module_version": "1.0.0",
            "_view_name": "OutputView",
            "layout": "IPY_MODEL_805fcfbe10f44139ac4ebcaaaee8f385",
            "msg_id": "",
            "outputs": [
              {
                "output_type": "display_data",
                "data": {
                  "text/plain": "\u001b[32m⠧\u001b[0m  air_model3           \u001b[38;2;0;0;0m━━\u001b[0m\u001b[39m╺\u001b[0m\u001b[39m━━━━━━━\u001b[0m \u001b[38;2;155;155;159mTRAINING\u001b[0m \u001b[39m[\u001b[0m\u001b[38;2;155;155;159m0:01:41\u001b[0m\u001b[39m]\u001b[0m                \n   \u001b[4;38;2;161;161;169m↳ \u001b[0m\u001b]8;id=611817;https://app.layer.ai/siwar/sample-air-quality/models/air_model3\u001b\\\u001b[4;38;2;161;161;169mhttps://app.layer.ai/siwar/sample-air-quality/models/air_model3\u001b[0m\u001b]8;;\u001b\\ \n",
                  "text/html": "<pre style=\"white-space:pre;overflow-x:auto;line-height:normal;font-family:Menlo,'DejaVu Sans Mono',consolas,'Courier New',monospace\"><span style=\"color: #008000; text-decoration-color: #008000\">⠧</span>  air_model3           <span style=\"color: #000000; text-decoration-color: #000000\">━━</span><span style=\"color: #000000; text-decoration-color: #000000\">╺━━━━━━━</span> <span style=\"color: #9b9b9f; text-decoration-color: #9b9b9f\">TRAINING</span> <span style=\"color: #000000; text-decoration-color: #000000\">[</span><span style=\"color: #9b9b9f; text-decoration-color: #9b9b9f\">0:01:41</span><span style=\"color: #000000; text-decoration-color: #000000\">]</span>                \n   <span style=\"color: #a1a1a9; text-decoration-color: #a1a1a9; text-decoration: underline\">↳ </span><a href=\"https://app.layer.ai/siwar/sample-air-quality/models/air_model3\" target=\"_blank\"><span style=\"color: #a1a1a9; text-decoration-color: #a1a1a9; text-decoration: underline\">https://app.layer.ai/siwar/sample-air-quality/models/air_model3</span></a> \n</pre>\n"
                },
                "metadata": {}
              }
            ]
          }
        },
        "805fcfbe10f44139ac4ebcaaaee8f385": {
          "model_module": "@jupyter-widgets/base",
          "model_name": "LayoutModel",
          "model_module_version": "1.2.0",
          "state": {
            "_model_module": "@jupyter-widgets/base",
            "_model_module_version": "1.2.0",
            "_model_name": "LayoutModel",
            "_view_count": null,
            "_view_module": "@jupyter-widgets/base",
            "_view_module_version": "1.2.0",
            "_view_name": "LayoutView",
            "align_content": null,
            "align_items": null,
            "align_self": null,
            "border": null,
            "bottom": null,
            "display": null,
            "flex": null,
            "flex_flow": null,
            "grid_area": null,
            "grid_auto_columns": null,
            "grid_auto_flow": null,
            "grid_auto_rows": null,
            "grid_column": null,
            "grid_gap": null,
            "grid_row": null,
            "grid_template_areas": null,
            "grid_template_columns": null,
            "grid_template_rows": null,
            "height": null,
            "justify_content": null,
            "justify_items": null,
            "left": null,
            "margin": null,
            "max_height": null,
            "max_width": null,
            "min_height": null,
            "min_width": null,
            "object_fit": null,
            "object_position": null,
            "order": null,
            "overflow": null,
            "overflow_x": null,
            "overflow_y": null,
            "padding": null,
            "right": null,
            "top": null,
            "visibility": null,
            "width": null
          }
        },
        "63ac0ad063f245dab80fa61d60d63dd0": {
          "model_module": "@jupyter-widgets/output",
          "model_name": "OutputModel",
          "model_module_version": "1.0.0",
          "state": {
            "_dom_classes": [],
            "_model_module": "@jupyter-widgets/output",
            "_model_module_version": "1.0.0",
            "_model_name": "OutputModel",
            "_view_count": null,
            "_view_module": "@jupyter-widgets/output",
            "_view_module_version": "1.0.0",
            "_view_name": "OutputView",
            "layout": "IPY_MODEL_5843e0c78d9041eb83439ba4cf183072",
            "msg_id": "",
            "outputs": [
              {
                "output_type": "display_data",
                "data": {
                  "text/plain": "\u001b[32m⠼\u001b[0m  air_model3           \u001b[38;2;37;99;234m━━━━━━━━━\u001b[0m\u001b[38;2;37;99;234m╸\u001b[0m \u001b[38;2;155;155;159mDOWNLOADING\u001b[0m \u001b[39m[\u001b[0m\u001b[38;2;155;155;159m921 kB/921 kB\u001b[0m\u001b[39m, \u001b[0m\u001b[38;2;155;155;159m524.8 kB/s\u001b[0m\u001b[39m, \u001b[0m\u001b[38;2;155;155;159m0:00:00\u001b[0m\u001b[39m]\u001b[0m \n",
                  "text/html": "<pre style=\"white-space:pre;overflow-x:auto;line-height:normal;font-family:Menlo,'DejaVu Sans Mono',consolas,'Courier New',monospace\"><span style=\"color: #008000; text-decoration-color: #008000\">⠼</span>  air_model3           <span style=\"color: #2563ea; text-decoration-color: #2563ea\">━━━━━━━━━╸</span> <span style=\"color: #9b9b9f; text-decoration-color: #9b9b9f\">DOWNLOADING</span> <span style=\"color: #000000; text-decoration-color: #000000\">[</span><span style=\"color: #9b9b9f; text-decoration-color: #9b9b9f\">921 kB/921 kB</span><span style=\"color: #000000; text-decoration-color: #000000\">, </span><span style=\"color: #9b9b9f; text-decoration-color: #9b9b9f\">524.8 kB/s</span><span style=\"color: #000000; text-decoration-color: #000000\">, </span><span style=\"color: #9b9b9f; text-decoration-color: #9b9b9f\">0:00:00</span><span style=\"color: #000000; text-decoration-color: #000000\">]</span> \n</pre>\n"
                },
                "metadata": {}
              }
            ]
          }
        },
        "5843e0c78d9041eb83439ba4cf183072": {
          "model_module": "@jupyter-widgets/base",
          "model_name": "LayoutModel",
          "model_module_version": "1.2.0",
          "state": {
            "_model_module": "@jupyter-widgets/base",
            "_model_module_version": "1.2.0",
            "_model_name": "LayoutModel",
            "_view_count": null,
            "_view_module": "@jupyter-widgets/base",
            "_view_module_version": "1.2.0",
            "_view_name": "LayoutView",
            "align_content": null,
            "align_items": null,
            "align_self": null,
            "border": null,
            "bottom": null,
            "display": null,
            "flex": null,
            "flex_flow": null,
            "grid_area": null,
            "grid_auto_columns": null,
            "grid_auto_flow": null,
            "grid_auto_rows": null,
            "grid_column": null,
            "grid_gap": null,
            "grid_row": null,
            "grid_template_areas": null,
            "grid_template_columns": null,
            "grid_template_rows": null,
            "height": null,
            "justify_content": null,
            "justify_items": null,
            "left": null,
            "margin": null,
            "max_height": null,
            "max_width": null,
            "min_height": null,
            "min_width": null,
            "object_fit": null,
            "object_position": null,
            "order": null,
            "overflow": null,
            "overflow_x": null,
            "overflow_y": null,
            "padding": null,
            "right": null,
            "top": null,
            "visibility": null,
            "width": null
          }
        }
      }
    }
  },
  "nbformat": 4,
  "nbformat_minor": 5
}
